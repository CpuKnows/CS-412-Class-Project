{
 "cells": [
  {
   "cell_type": "code",
   "execution_count": 1,
   "metadata": {
    "collapsed": true
   },
   "outputs": [],
   "source": [
    "# Use below code if in the src/ directory\n",
    "# import sys\n",
    "# sys.path.append('data_preprocessing')\n",
    "# import data_preprocessing.normalize as normalize\n",
    "# import data_preprocessing.outliers as outliers\n",
    "# import data_preprocessing.summary as summary\n",
    "\n",
    "import summary\n",
    "import outliers\n",
    "import normalize\n",
    "\n",
    "import numpy as np\n",
    "import pandas as pd\n",
    "import matplotlib.pyplot as plt\n",
    "import seaborn as sns\n",
    "\n",
    "from sklearn.externals import joblib\n",
    "from sklearn.metrics import r2_score\n",
    "from sklearn.model_selection import GridSearchCV, learning_curve, train_test_split"
   ]
  },
  {
   "cell_type": "markdown",
   "metadata": {},
   "source": [
    "# Load and preprocess data"
   ]
  },
  {
   "cell_type": "code",
   "execution_count": 2,
   "metadata": {
    "collapsed": true
   },
   "outputs": [],
   "source": [
    "train_data = pd.read_csv('../../data/input/ames_train.csv')\n",
    "test_data = pd.read_csv('../../data/input/ames_test.csv')\n",
    "\n",
    "train_gdata = pd.read_csv('../../data/input/ames_geodemo_train.csv')\n",
    "test_gdata = pd.read_csv('../../data/input/ames_geodemo_test.csv')"
   ]
  },
  {
   "cell_type": "code",
   "execution_count": 3,
   "metadata": {},
   "outputs": [],
   "source": [
    "train_data.set_index('Id', inplace=True)\n",
    "train_data.drop(['PID'], axis=1, inplace=True)\n",
    "\n",
    "test_data.set_index('Id', inplace=True)\n",
    "test_data.drop(['PID'], axis=1, inplace=True)\n",
    "\n",
    "train_gdata.set_index('Id', inplace=True)\n",
    "train_gdata.drop(['PID', 'Latitude', 'Longitude', 'county', 'tract', 'blkgrp'], axis=1, inplace=True)\n",
    "\n",
    "test_gdata.set_index('Id', inplace=True)\n",
    "test_gdata.drop(['PID', 'Latitude', 'Longitude', 'county', 'tract', 'blkgrp'], axis=1, inplace=True)"
   ]
  },
  {
   "cell_type": "code",
   "execution_count": 4,
   "metadata": {
    "collapsed": true
   },
   "outputs": [],
   "source": [
    "train_data = normalize.fill_in_missing_values(train_data)\n",
    "train_data = outliers.remove_outliers(train_data)\n",
    "#train_data = normalize.normalize(train_data)\n",
    "\n",
    "test_data = normalize.fill_in_missing_values(test_data)\n",
    "test_data = outliers.remove_outliers(test_data)\n",
    "#test_data = normalize.normalize(test_data)\n",
    "\n",
    "train_gdata = normalize.fill_in_missing_values(train_gdata)\n",
    "train_gdata = outliers.remove_outliers(train_gdata)\n",
    "#train_gdata = normalize.normalize(train_gdata)\n",
    "\n",
    "test_gdata = normalize.fill_in_missing_values(test_gdata)\n",
    "test_gdata = outliers.remove_outliers(test_gdata)\n",
    "#test_gdata = normalize.normalize(test_gdata)"
   ]
  },
  {
   "cell_type": "code",
   "execution_count": 5,
   "metadata": {
    "collapsed": true
   },
   "outputs": [],
   "source": [
    "# Custom preprocessing here"
   ]
  },
  {
   "cell_type": "markdown",
   "metadata": {},
   "source": [
    "# Your Algorithm Here\n",
    "Use code here as needed."
   ]
  },
  {
   "cell_type": "code",
   "execution_count": 5,
   "metadata": {},
   "outputs": [
    {
     "name": "stdout",
     "output_type": "stream",
     "text": [
      "(2306, 37)\n",
      "(574, 37)\n",
      "(2306, 78)\n",
      "(574, 78)\n"
     ]
    }
   ],
   "source": [
    "# Remove categorical data\n",
    "train_data = train_data.select_dtypes(include=[np.number])\n",
    "test_data = test_data.select_dtypes(include=[np.number])\n",
    "train_gdata = train_gdata.select_dtypes(include=[np.number])\n",
    "test_gdata = test_gdata.select_dtypes(include=[np.number])\n",
    "\n",
    "print(train_data.shape)\n",
    "print(test_data.shape)\n",
    "print(train_gdata.shape)\n",
    "print(test_gdata.shape)"
   ]
  },
  {
   "cell_type": "code",
   "execution_count": 6,
   "metadata": {},
   "outputs": [
    {
     "name": "stdout",
     "output_type": "stream",
     "text": [
      "(1844, 36)\n",
      "(462, 36)\n",
      "(1844,)\n",
      "(462,)\n",
      "False\n"
     ]
    }
   ],
   "source": [
    "# Split training set into train and validation set\n",
    "X_train, X_val, y_train, y_val = train_test_split(train_data.loc[:, train_data.columns != 'SalePrice'], \n",
    "                                                  train_data['SalePrice'],\n",
    "                                                  test_size=0.2, random_state=42)\n",
    "\n",
    "X_train = X_train.values\n",
    "X_val = X_val.values\n",
    "y_train = y_train.values\n",
    "y_val = y_val.values\n",
    "\n",
    "print(X_train.shape)\n",
    "print(X_val.shape)\n",
    "print(y_train.shape)\n",
    "print(y_val.shape)\n",
    "\n",
    "print(np.any(np.isnan(y_train)))"
   ]
  },
  {
   "cell_type": "code",
   "execution_count": 7,
   "metadata": {},
   "outputs": [
    {
     "name": "stdout",
     "output_type": "stream",
     "text": [
      "(1844, 77)\n",
      "(462, 77)\n",
      "(1844,)\n",
      "(462,)\n",
      "False\n"
     ]
    }
   ],
   "source": [
    "# Split geodemo training set into train and validation set\n",
    "X_train_geo, X_val_geo, y_train_geo, y_val_geo = train_test_split(train_gdata.loc[:, train_gdata.columns != 'SalePrice'], \n",
    "                                                                  train_gdata['SalePrice'],\n",
    "                                                                  test_size=0.2, random_state=42)\n",
    "\n",
    "X_train_geo = X_train_geo.values\n",
    "X_val_geo = X_val_geo.values\n",
    "y_train_geo = y_train_geo.values\n",
    "y_val_geo = y_val_geo.values\n",
    "\n",
    "print(X_train_geo.shape)\n",
    "print(X_val_geo.shape)\n",
    "print(y_train_geo.shape)\n",
    "print(y_val_geo.shape)\n",
    "\n",
    "print(np.any(np.isnan(y_train_geo)))"
   ]
  },
  {
   "cell_type": "code",
   "execution_count": 8,
   "metadata": {
    "collapsed": true
   },
   "outputs": [],
   "source": [
    "from sklearn.linear_model import Lasso"
   ]
  },
  {
   "cell_type": "code",
   "execution_count": 23,
   "metadata": {},
   "outputs": [
    {
     "name": "stdout",
     "output_type": "stream",
     "text": [
      "Best parameters set found on development set:\n",
      "\n",
      "{'alpha': 1.0, 'max_iter': 100}\n",
      "\n",
      "Grid scores on development set:\n",
      "\n",
      "0.875 (+/-0.017) for {'alpha': 0.2, 'max_iter': 100}\n",
      "0.875 (+/-0.017) for {'alpha': 0.2, 'max_iter': 300}\n",
      "0.875 (+/-0.017) for {'alpha': 0.2, 'max_iter': 1000}\n",
      "0.875 (+/-0.017) for {'alpha': 0.5, 'max_iter': 100}\n",
      "0.875 (+/-0.017) for {'alpha': 0.5, 'max_iter': 300}\n",
      "0.875 (+/-0.017) for {'alpha': 0.5, 'max_iter': 1000}\n",
      "0.875 (+/-0.017) for {'alpha': 1.0, 'max_iter': 100}\n",
      "0.875 (+/-0.017) for {'alpha': 1.0, 'max_iter': 300}\n",
      "0.875 (+/-0.017) for {'alpha': 1.0, 'max_iter': 1000}\n",
      "\n"
     ]
    }
   ],
   "source": [
    "# Hyperparameter tuning\n",
    "param_grid = [\n",
    "  {'alpha': [0.2, 0.5, 1.0], 'max_iter': [100, 300, 1000]}\n",
    "]\n",
    "\n",
    "clf = GridSearchCV(Lasso(), param_grid, cv=5,\n",
    "                   scoring='r2')\n",
    "clf.fit(X_train, y_train)\n",
    "\n",
    "print(\"Best parameters set found on development set:\")\n",
    "print()\n",
    "print(clf.best_params_)\n",
    "print()\n",
    "print(\"Grid scores on development set:\")\n",
    "print()\n",
    "means = clf.cv_results_['mean_test_score']\n",
    "stds = clf.cv_results_['std_test_score']\n",
    "for mean, std, params in zip(means, stds, clf.cv_results_['params']):\n",
    "    print(\"%0.3f (+/-%0.03f) for %r\" % (mean, std * 2, params))\n",
    "print()"
   ]
  },
  {
   "cell_type": "code",
   "execution_count": 24,
   "metadata": {},
   "outputs": [
    {
     "data": {
      "image/png": "[encoded data removed]",
      "text/plain": [
       "<matplotlib.figure.Figure at 0x23724630898>"
      ]
     },
     "metadata": {},
     "output_type": "display_data"
    }
   ],
   "source": [
    "# Learning curve\n",
    "import warnings\n",
    "warnings.filterwarnings(\"ignore\")\n",
    "\n",
    "train_sizes, train_scores, valid_scores = learning_curve(clf, X_train, y_train, train_sizes=range(500, 1400, 100), cv=5)\n",
    "\n",
    "plt.figure()\n",
    "plt.title('Learning curve')\n",
    "plt.xlabel(\"Training examples\")\n",
    "plt.ylabel(\"Score\")\n",
    "plt.ylim([0.7, 1.0])\n",
    "\n",
    "train_scores_mean = np.mean(train_scores, axis=1)\n",
    "train_scores_std = np.std(train_scores, axis=1)\n",
    "valid_scores_mean = np.mean(valid_scores, axis=1)\n",
    "valid_scores_std = np.std(valid_scores, axis=1)\n",
    "\n",
    "plt.grid()\n",
    "plt.fill_between(train_sizes, train_scores_mean - train_scores_std,\n",
    "                 train_scores_mean + train_scores_std, alpha=0.1,\n",
    "                 color=\"r\")\n",
    "plt.fill_between(train_sizes, valid_scores_mean - valid_scores_std,\n",
    "                 valid_scores_mean + valid_scores_std, alpha=0.1, color=\"g\")\n",
    "plt.plot(train_sizes, train_scores_mean, 'o-', color=\"r\",\n",
    "         label=\"Training score\")\n",
    "plt.plot(train_sizes, valid_scores_mean, 'o-', color=\"g\",\n",
    "         label=\"Cross-validation score\")\n",
    "\n",
    "plt.legend(loc=\"best\")\n",
    "plt.show()"
   ]
  },
  {
   "cell_type": "code",
   "execution_count": 9,
   "metadata": {},
   "outputs": [
    {
     "name": "stdout",
     "output_type": "stream",
     "text": [
      "R2 score: 0.8771\n",
      "Median margin of error: 0.0912867017082\n"
     ]
    }
   ],
   "source": [
    "# Predictions on validation set\n",
    "lr = Lasso(alpha=1.0, max_iter=100)\n",
    "lr.fit(X_train,y_train)\n",
    "y_val_pred = lr.predict(X_val)\n",
    "print('R2 score:', np.round(r2_score(y_val, y_val_pred), 4))\n",
    "print('Median margin of error:', np.median(np.abs((y_val_pred - y_val) / y_val)))"
   ]
  },
  {
   "cell_type": "code",
   "execution_count": 10,
   "metadata": {},
   "outputs": [
    {
     "data": {
      "image/png": "[encoded data removed]",
      "text/plain": [
       "<matplotlib.figure.Figure at 0x58b4ec04a8>"
      ]
     },
     "metadata": {},
     "output_type": "display_data"
    }
   ],
   "source": [
    "# Plot predictions vs validation set\n",
    "summary.pred_vs_actual_plot(y_val_pred, y_val)"
   ]
  },
  {
   "cell_type": "markdown",
   "metadata": {},
   "source": [
    "# Output results\n",
    "We want to output models and predictions on the test set with and without geodemos for reporting and comparison"
   ]
  },
  {
   "cell_type": "code",
   "execution_count": 11,
   "metadata": {},
   "outputs": [
    {
     "name": "stdout",
     "output_type": "stream",
     "text": [
      "R2 score: 0.8784\n",
      "Median margin of error: 0.0882033358499\n"
     ]
    },
    {
     "data": {
      "text/plain": [
       "['../../models/model_linear_lasso.pkl']"
      ]
     },
     "execution_count": 11,
     "metadata": {},
     "output_type": "execute_result"
    }
   ],
   "source": [
    "# Test data\n",
    "X_test = test_data.loc[:, test_data.columns != 'SalePrice']\n",
    "y_test = test_data['SalePrice']\n",
    "\n",
    "# Train final model\n",
    "lr = Lasso(alpha=1.0, max_iter=100)\n",
    "lr.fit(np.concatenate((X_train, X_val)), np.concatenate((y_train, y_val)))\n",
    "pred = lr.predict(X_test)\n",
    "print('R2 score:', np.round(r2_score(y_test, pred), 4))\n",
    "print('Median margin of error:', np.median(np.abs((pred - y_test) / y_test)))\n",
    "\n",
    "# Output predictions\n",
    "pred_df = pd.DataFrame(data={'predictions': pred}, index=test_data.index)\n",
    "pred_df.to_csv('../../data/output/pred_linear_lasso.csv')\n",
    "\n",
    "# Pickle final model\n",
    "joblib.dump(lr, '../../models/model_linear_lasso.pkl')"
   ]
  },
  {
   "cell_type": "code",
   "execution_count": 12,
   "metadata": {},
   "outputs": [
    {
     "name": "stdout",
     "output_type": "stream",
     "text": [
      "R2 score: 0.8907\n",
      "Median margin of error: 0.0854852865334\n"
     ]
    },
    {
     "name": "stderr",
     "output_type": "stream",
     "text": [
      "D:\\ProgramData\\Anaconda3\\envs\\school\\lib\\site-packages\\sklearn\\linear_model\\coordinate_descent.py:491: ConvergenceWarning: Objective did not converge. You might want to increase the number of iterations. Fitting data with very small alpha may cause precision problems.\n",
      "  ConvergenceWarning)\n"
     ]
    },
    {
     "data": {
      "text/plain": [
       "['../../models/model_linear_lasso_geo.pkl']"
      ]
     },
     "execution_count": 12,
     "metadata": {},
     "output_type": "execute_result"
    }
   ],
   "source": [
    "# Test data with geodemos\n",
    "X_test_geo = test_gdata.loc[:, test_gdata.columns != 'SalePrice']\n",
    "y_test_geo = test_gdata['SalePrice']\n",
    "\n",
    "# Train final model\n",
    "lr = Lasso(alpha=1.0, max_iter=100)\n",
    "lr.fit(np.concatenate((X_train_geo, X_val_geo)), np.concatenate((y_train_geo, y_val_geo)))\n",
    "pred = lr.predict(X_test_geo)\n",
    "print('R2 score:', np.round(r2_score(y_test_geo, pred), 4))\n",
    "print('Median margin of error:', np.median(np.abs((pred - y_test_geo) / y_test_geo)))\n",
    "\n",
    "# Output predictions\n",
    "pred_df = pd.DataFrame(data={'predictions': pred}, index=test_gdata.index)\n",
    "pred_df.to_csv('../../data/output/pred_linear_lasso_geo.csv')\n",
    "\n",
    "# Pickle final model\n",
    "joblib.dump(lr, '../../models/model_linear_lasso_geo.pkl')"
   ]
  }
 ],
 "metadata": {
  "kernelspec": {
   "display_name": "Python [default]",
   "language": "python",
   "name": "python3"
  },
  "language_info": {
   "codemirror_mode": {
    "name": "ipython",
    "version": 3
   },
   "file_extension": ".py",
   "mimetype": "text/x-python",
   "name": "python",
   "nbconvert_exporter": "python",
   "pygments_lexer": "ipython3",
   "version": "3.6.2"
  }
 },
 "nbformat": 4,
 "nbformat_minor": 2
}

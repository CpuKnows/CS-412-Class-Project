{
 "cells": [
  {
   "cell_type": "code",
   "execution_count": 71,
   "metadata": {
    "collapsed": true
   },
   "outputs": [],
   "source": [
    "import summary\n",
    "import outliers\n",
    "import normalize\n",
    "from sklearn import linear_model\n",
    "from sklearn.model_selection import train_test_split\n",
    "import pandas as pd"
   ]
  },
  {
   "cell_type": "code",
   "execution_count": 72,
   "metadata": {
    "collapsed": true
   },
   "outputs": [],
   "source": [
    "train_data = pd.read_csv('train.csv')"
   ]
  },
  {
   "cell_type": "code",
   "execution_count": 73,
   "metadata": {
    "collapsed": true
   },
   "outputs": [],
   "source": [
    "train_data = normalize.fill_in_missing_values(train_data)\n",
    "train_data = outliers.remove_outliers(train_data)\n",
    "train_data = normalize.normalize(train_data)"
   ]
  },
  {
   "cell_type": "code",
   "execution_count": 74,
   "metadata": {},
   "outputs": [],
   "source": [
    "y = train_data['log_SalePrice']\n",
    "X = train_data.drop('log_SalePrice', 1)\n",
    "X_train,X_test,y_train,y_test = train_test_split(X,y,test_size = 0.3,random_state= 0)"
   ]
  },
  {
   "cell_type": "code",
   "execution_count": 75,
   "metadata": {},
   "outputs": [],
   "source": [
    "unselected_columns = list(X_train)\n",
    "selected_columns = []"
   ]
  },
  {
   "cell_type": "code",
   "execution_count": 76,
   "metadata": {},
   "outputs": [
    {
     "name": "stdout",
     "output_type": "stream",
     "text": [
      "OverallQual\n",
      "0.717226228508\n",
      "log_GrLivArea\n",
      "0.790203855668\n",
      "YearBuilt\n",
      "0.825734697485\n",
      "LotArea\n",
      "0.85141960671\n",
      "OverallCond\n",
      "0.870256572101\n",
      "TotalBsmtSF\n",
      "0.889953021858\n",
      "GarageArea\n",
      "0.899576621288\n",
      "MSZoning_C (all)\n",
      "0.907503776009\n",
      "BsmtFullBath\n",
      "0.91163202478\n",
      "Neighborhood_Crawfor\n",
      "0.915486064941\n",
      "BldgType_1Fam\n",
      "0.918765590291\n",
      "BsmtQual_Ex\n",
      "0.921983105473\n",
      "BldgType_TwnhsE\n",
      "0.923763253711\n",
      "Exterior1st_BrkFace\n",
      "0.925081892525\n",
      "YearRemodAdd\n",
      "0.926729616837\n",
      "Functional_Typ\n",
      "0.92852056541\n",
      "MSZoning_RM\n",
      "0.929769764595\n",
      "Heating_Grav\n",
      "0.930728831269\n",
      "Functional_Maj2\n",
      "0.931683692487\n",
      "Neighborhood_BrkSide\n",
      "0.932815575414\n",
      "MSSubClass\n",
      "0.93358230913\n",
      "Neighborhood_StoneBr\n",
      "0.934352516413\n",
      "Exterior1st_HdBoard\n",
      "0.934960020313\n",
      "MasVnrArea\n",
      "0.935509265645\n",
      "YrSold\n",
      "0.93598014307\n",
      "SaleType_ConLD\n",
      "0.936411900386\n",
      "WoodDeckSF\n",
      "0.936843173821\n",
      "GarageCond_TA\n",
      "0.937245756031\n",
      "BsmtFinType2_BLQ\n",
      "0.937614911149\n",
      "Condition1_Artery\n",
      "0.937984904896\n",
      "Foundation_Stone\n",
      "0.93830639528\n",
      "BsmtCond_Fa\n",
      "0.938637495288\n",
      "HouseStyle_1.5Unf\n",
      "0.938946956572\n",
      "HouseStyle_2.5Unf\n",
      "0.93920597778\n",
      "Fence_GdWo\n",
      "0.939443055028\n",
      "LotConfig_CulDSac\n",
      "0.939655733105\n",
      "CentralAir_N\n",
      "0.939854391252\n",
      "Heating_Wall\n",
      "0.940130725088\n",
      "Heating_GasW\n",
      "0.940332827652\n",
      "Neighborhood_IDOTRR\n",
      "0.940624089797\n",
      "GarageCars\n",
      "0.940872395123\n",
      "PavedDrive_Y\n",
      "0.941102044116\n",
      "Fence_GdPrv\n",
      "0.941292236463\n",
      "LotFrontage\n",
      "0.941470126133\n",
      "HasLotFrontage\n",
      "0.942096155652\n",
      "Alley_Pave\n",
      "0.942399312253\n",
      "Neighborhood_SWISU\n",
      "0.942623510123\n",
      "KitchenQual_Gd\n",
      "0.94278837116\n",
      "Condition1_PosA\n",
      "0.942937586165\n",
      "KitchenAbvGr\n",
      "0.943108068131\n",
      "2ndFlrSF\n",
      "0.94334297685\n",
      "Done\n"
     ]
    }
   ],
   "source": [
    "accuracy = 0\n",
    "lr = linear_model.LinearRegression()\n",
    "while(True):\n",
    "    max_model_accuracy = 0\n",
    "    best_feature = None\n",
    "    for col in unselected_columns:\n",
    "        lr.fit(X_train[selected_columns + [col]], y_train)\n",
    "        model_accuracy = lr.score(X_test[selected_columns + [col]], y_test)\n",
    "        if(model_accuracy > max_model_accuracy):\n",
    "            best_feature = col\n",
    "            max_model_accuracy = model_accuracy\n",
    "    print(best_feature)\n",
    "    print(max_model_accuracy)\n",
    "    selected_columns.append(best_feature)\n",
    "    unselected_columns.remove(best_feature)\n",
    "    if(model_accuracy - accuracy < 0.0001):\n",
    "        break\n",
    "    else:\n",
    "        accuracy = model_accuracy\n",
    "print('Done')"
   ]
  }
 ],
 "metadata": {
  "kernelspec": {
   "display_name": "Python 3",
   "language": "python",
   "name": "python3"
  },
  "language_info": {
   "codemirror_mode": {
    "name": "ipython",
    "version": 3
   },
   "file_extension": ".py",
   "mimetype": "text/x-python",
   "name": "python",
   "nbconvert_exporter": "python",
   "pygments_lexer": "ipython3",
   "version": "3.6.3"
  }
 },
 "nbformat": 4,
 "nbformat_minor": 2
}

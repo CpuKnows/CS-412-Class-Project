{
 "cells": [
  {
   "cell_type": "code",
   "execution_count": 1,
   "metadata": {
    "collapsed": true
   },
   "outputs": [],
   "source": [
    "import summary\n",
    "import outliers\n",
    "import normalize\n",
    "from sklearn import linear_model\n",
    "from sklearn.model_selection import train_test_split\n",
    "import pandas as pd"
   ]
  },
  {
   "cell_type": "code",
   "execution_count": 14,
   "metadata": {},
   "outputs": [],
   "source": [
    "train_data = pd.read_csv('../../data/input/ames_train.csv')\n",
    "test_data = pd.read_csv('../../data/input/ames_test.csv')\n",
    "\n",
    "geo_train_data = pd.read_csv('../../data/input/ames_geodemo_train.csv')\n",
    "geo_test_data = pd.read_csv('../../data/input/ames_geodemo_train.csv')"
   ]
  },
  {
   "cell_type": "code",
   "execution_count": 15,
   "metadata": {
    "collapsed": true
   },
   "outputs": [],
   "source": [
    "train_data = normalize.fill_in_missing_values(train_data)\n",
    "train_data = outliers.remove_outliers(train_data)\n",
    "train_data = normalize.normalize(train_data)\n",
    "\n",
    "test_data = normalize.fill_in_missing_values(test_data)\n",
    "test_data = outliers.remove_outliers(test_data)\n",
    "test_data = normalize.normalize(test_data)\n",
    "\n",
    "geo_train_data = normalize.fill_in_missing_values(geo_train_data)\n",
    "geo_train_data = outliers.remove_outliers(geo_train_data)\n",
    "geo_train_data = normalize.normalize(geo_train_data)\n",
    "\n",
    "geo_test_data = normalize.fill_in_missing_values(geo_test_data)\n",
    "geo_test_data = outliers.remove_outliers(geo_test_data)\n",
    "geo_test_data = normalize.normalize(geo_test_data)"
   ]
  },
  {
   "cell_type": "code",
   "execution_count": 16,
   "metadata": {
    "collapsed": true
   },
   "outputs": [],
   "source": [
    "y_train = train_data['log_SalePrice']\n",
    "X_train = train_data.drop('log_SalePrice', 1)\n",
    "y_test = test_data['log_SalePrice']\n",
    "X_test = test_data.drop('log_SalePrice', 1)\n",
    "\n",
    "y_geo_train = geo_train_data['log_SalePrice']\n",
    "X_geo_train = geo_train_data.drop('log_SalePrice', 1)\n",
    "y_geo_test = geo_test_data['log_SalePrice']\n",
    "X_geo_test = geo_test_data.drop('log_SalePrice', 1)"
   ]
  },
  {
   "cell_type": "code",
   "execution_count": 17,
   "metadata": {
    "collapsed": true
   },
   "outputs": [],
   "source": [
    "train_cols = list(X_train)\n",
    "test_cols = list(X_test)\n",
    "for col in train_cols:\n",
    "    if (col not in  test_cols):\n",
    "        X_train = X_train.drop(col, 1)\n",
    "        \n",
    "for col in test_cols:\n",
    "    if (col not in  train_cols):\n",
    "        X_test = X_test.drop(col, 1)\n",
    "        \n",
    "        \n",
    "geo_train_cols = list(X_geo_train)\n",
    "geo_test_cols = list(X_geo_test)\n",
    "for col in geo_train_cols:\n",
    "    if (col not in  geo_test_cols):\n",
    "        X_geo_train = X_geo_train.drop(col, 1)\n",
    "        \n",
    "for col in geo_test_cols:\n",
    "    if (col not in  geo_train_cols):\n",
    "        X_geo_test = X_geo_test.drop(col, 1)\n"
   ]
  },
  {
   "cell_type": "code",
   "execution_count": 12,
   "metadata": {},
   "outputs": [
    {
     "name": "stdout",
     "output_type": "stream",
     "text": [
      "OverallQual\n",
      "0.714518102444\n",
      "log_GrLivArea\n",
      "0.782503202445\n",
      "BsmtFinSF1\n",
      "0.828469643832\n",
      "YearBuilt\n",
      "0.854342875795\n",
      "OverallCond\n",
      "0.877136774538\n",
      "LotArea\n",
      "0.892541845607\n",
      "TotalBsmtSF\n",
      "0.89990712539\n",
      "BsmtQual_Ex\n",
      "0.905939857291\n",
      "BldgType_Duplex\n",
      "0.910011193923\n",
      "SaleCondition_Abnorml\n",
      "0.913224453862\n",
      "Neighborhood_Crawfor\n",
      "0.915949439892\n",
      "Neighborhood_GrnHill\n",
      "0.918225902655\n",
      "GarageArea\n",
      "0.920575733338\n",
      "MSZoning_RM\n",
      "0.922950987584\n",
      "Neighborhood_BrkSide\n",
      "0.92521454321\n",
      "Functional_Typ\n",
      "0.927264160327\n",
      "Condition1_Norm\n",
      "0.9292984151\n",
      "MSZoning_C (all)\n",
      "0.931010865906\n",
      "YearRemodAdd\n",
      "0.933103943769\n",
      "BsmtExposure_No\n",
      "0.934462235923\n",
      "ExterCond_Fa\n",
      "0.935740373433\n",
      "SaleCondition_Partial\n",
      "0.936874155714\n",
      "Fireplaces\n",
      "0.937996750965\n",
      "Done\n"
     ]
    }
   ],
   "source": [
    "unselected_columns = list(X_train)\n",
    "selected_columns = []\n",
    "accuracy = 0\n",
    "lr = linear_model.LinearRegression()\n",
    "while(True):\n",
    "    max_model_accuracy = 0\n",
    "    best_feature = None\n",
    "    for col in unselected_columns:\n",
    "        lr.fit(X_train[selected_columns + [col]], y_train)\n",
    "        model_accuracy = lr.score(X_test[selected_columns + [col]], y_test)\n",
    "        if(model_accuracy > max_model_accuracy):\n",
    "            best_feature = col\n",
    "            max_model_accuracy = model_accuracy\n",
    "    print(best_feature)\n",
    "    print(max_model_accuracy)\n",
    "    selected_columns.append(best_feature)\n",
    "    unselected_columns.remove(best_feature)\n",
    "    if(model_accuracy - accuracy < 0.0001):\n",
    "        break\n",
    "    else:\n",
    "        accuracy = model_accuracy\n",
    "print('Done')"
   ]
  },
  {
   "cell_type": "code",
   "execution_count": 19,
   "metadata": {},
   "outputs": [
    {
     "name": "stdout",
     "output_type": "stream",
     "text": [
      "OverallQual\n",
      "0.6799212154\n",
      "log_GrLivArea\n",
      "0.771283987532\n",
      "BsmtFinSF1\n",
      "0.814920373155\n",
      "YearBuilt\n",
      "0.84523601633\n",
      "OverallCond\n",
      "0.863780067104\n",
      "LotArea\n",
      "0.880570345748\n",
      "TotalBsmtSF\n",
      "0.890299577968\n",
      "GarageCars\n",
      "0.896253274338\n",
      "Neighborhood_Crawfor\n",
      "0.90012523278\n",
      "SaleCondition_Abnorml\n",
      "0.903560223679\n",
      "KitchenAbvGr\n",
      "0.906785827394\n",
      "KitchenQual_Ex\n",
      "0.909724202874\n",
      "BldgType_Twnhs\n",
      "0.911860987075\n",
      "HeatingQC_Ex\n",
      "0.913314111793\n",
      "Condition1_Norm\n",
      "0.914547661512\n",
      "BsmtFullBath\n",
      "0.915758938737\n",
      "Exterior1st_BrkFace\n",
      "0.916983851318\n",
      "SaleType_New\n",
      "0.918059823646\n",
      "Fireplaces\n",
      "0.919152709694\n",
      "Done\n"
     ]
    }
   ],
   "source": [
    "unselected_columns = list(X_geo_train)\n",
    "selected_columns = []\n",
    "accuracy = 0\n",
    "lr = linear_model.LinearRegression()\n",
    "while(True):\n",
    "    max_model_accuracy = 0\n",
    "    best_feature = None\n",
    "    for col in unselected_columns:\n",
    "        lr.fit(X_geo_train[selected_columns + [col]], y_train)\n",
    "        model_accuracy = lr.score(X_geo_test[selected_columns + [col]], y_geo_test)\n",
    "        if(model_accuracy > max_model_accuracy):\n",
    "            best_feature = col\n",
    "            max_model_accuracy = model_accuracy\n",
    "    print(best_feature)\n",
    "    print(max_model_accuracy)\n",
    "    selected_columns.append(best_feature)\n",
    "    unselected_columns.remove(best_feature)\n",
    "    if(model_accuracy - accuracy < 0.0001):\n",
    "        break\n",
    "    else:\n",
    "        accuracy = model_accuracy\n",
    "print('Done')"
   ]
  },
  {
   "cell_type": "code",
   "execution_count": null,
   "metadata": {
    "collapsed": true
   },
   "outputs": [],
   "source": []
  }
 ],
 "metadata": {
  "kernelspec": {
   "display_name": "Python 3",
   "language": "python",
   "name": "python3"
  },
  "language_info": {
   "codemirror_mode": {
    "name": "ipython",
    "version": 3
   },
   "file_extension": ".py",
   "mimetype": "text/x-python",
   "name": "python",
   "nbconvert_exporter": "python",
   "pygments_lexer": "ipython3",
   "version": "3.6.3"
  }
 },
 "nbformat": 4,
 "nbformat_minor": 2
}

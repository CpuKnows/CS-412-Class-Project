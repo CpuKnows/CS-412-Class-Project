{
 "cells": [
  {
   "cell_type": "code",
   "execution_count": 1,
   "metadata": {
    "collapsed": true
   },
   "outputs": [],
   "source": [
    "# Use below code if in the src/ directory\n",
    "import sys\n",
    "sys.path.append('data_preprocessing')\n",
    "import data_preprocessing.normalize as normalize\n",
    "import data_preprocessing.outliers as outliers\n",
    "import data_preprocessing.summary as summary\n",
    "\n",
    "import numpy as np\n",
    "import pandas as pd\n",
    "import matplotlib.pyplot as plt\n",
    "import seaborn as sns\n",
    "\n",
    "from sklearn.externals import joblib\n",
    "from sklearn.metrics import r2_score\n",
    "from sklearn.model_selection import GridSearchCV, learning_curve, train_test_split"
   ]
  },
  {
   "cell_type": "markdown",
   "metadata": {},
   "source": [
    "# Load data"
   ]
  },
  {
   "cell_type": "code",
   "execution_count": 2,
   "metadata": {},
   "outputs": [],
   "source": [
    "train_data = pd.read_csv('../data/input/ames_train.csv')\n",
    "test_data = pd.read_csv('../data/input/ames_test.csv')\n",
    "\n",
    "train_gdata = pd.read_csv('../data/input/ames_geodemo_train.csv')\n",
    "test_gdata = pd.read_csv('../data/input/ames_geodemo_test.csv')"
   ]
  },
  {
   "cell_type": "code",
   "execution_count": 3,
   "metadata": {},
   "outputs": [],
   "source": [
    "train_data.set_index('Id', inplace=True)\n",
    "train_data.drop(['PID'], axis=1, inplace=True)\n",
    "\n",
    "test_data.set_index('Id', inplace=True)\n",
    "test_data.drop(['PID'], axis=1, inplace=True)\n",
    "\n",
    "train_gdata.set_index('Id', inplace=True)\n",
    "train_gdata.drop(['PID', 'Latitude', 'Longitude', 'county', 'tract', 'blkgrp'], axis=1, inplace=True)\n",
    "\n",
    "test_gdata.set_index('Id', inplace=True)\n",
    "test_gdata.drop(['PID', 'Latitude', 'Longitude', 'county', 'tract', 'blkgrp'], axis=1, inplace=True)"
   ]
  },
  {
   "cell_type": "code",
   "execution_count": 4,
   "metadata": {},
   "outputs": [],
   "source": [
    "train_data = normalize.fill_in_missing_values(train_data)\n",
    "train_data = outliers.remove_outliers(train_data)\n",
    "#train_data = normalize.normalize(train_data)\n",
    "\n",
    "test_data = normalize.fill_in_missing_values(test_data)\n",
    "test_data = outliers.remove_outliers(test_data)\n",
    "#test_data = normalize.normalize(test_data)\n",
    "\n",
    "train_gdata = normalize.fill_in_missing_values(train_gdata)\n",
    "train_gdata = outliers.remove_outliers(train_gdata)\n",
    "#train_gdata = normalize.normalize(train_gdata)\n",
    "\n",
    "test_gdata = normalize.fill_in_missing_values(test_gdata)\n",
    "test_gdata = outliers.remove_outliers(test_gdata)\n",
    "#test_gdata = normalize.normalize(test_gdata)"
   ]
  },
  {
   "cell_type": "code",
   "execution_count": 5,
   "metadata": {},
   "outputs": [
    {
     "name": "stdout",
     "output_type": "stream",
     "text": [
      "(2306, 37)\n",
      "(574, 37)\n",
      "(2306, 78)\n",
      "(574, 78)\n"
     ]
    }
   ],
   "source": [
    "# Remove categorical data\n",
    "train_data = train_data.select_dtypes(include=[np.number])\n",
    "test_data = test_data.select_dtypes(include=[np.number])\n",
    "train_gdata = train_gdata.select_dtypes(include=[np.number])\n",
    "test_gdata = test_gdata.select_dtypes(include=[np.number])\n",
    "\n",
    "print(train_data.shape)\n",
    "print(test_data.shape)\n",
    "print(train_gdata.shape)\n",
    "print(test_gdata.shape)"
   ]
  },
  {
   "cell_type": "code",
   "execution_count": 6,
   "metadata": {},
   "outputs": [
    {
     "name": "stdout",
     "output_type": "stream",
     "text": [
      "(1844, 36)\n",
      "(462, 36)\n",
      "(1844,)\n",
      "(462,)\n"
     ]
    }
   ],
   "source": [
    "# Split training set into train and validation set\n",
    "X_train, X_val, y_train, y_val = train_test_split(train_data.loc[:, train_data.columns != 'SalePrice'], \n",
    "                                                  train_data['SalePrice'],\n",
    "                                                  test_size=0.2, random_state=42)\n",
    "\n",
    "X_train = X_train.values\n",
    "X_val = X_val.values\n",
    "y_train = y_train.values\n",
    "y_val = y_val.values\n",
    "\n",
    "print(X_train.shape)\n",
    "print(X_val.shape)\n",
    "print(y_train.shape)\n",
    "print(y_val.shape)"
   ]
  },
  {
   "cell_type": "code",
   "execution_count": 7,
   "metadata": {},
   "outputs": [
    {
     "name": "stdout",
     "output_type": "stream",
     "text": [
      "(1844, 77)\n",
      "(462, 77)\n",
      "(1844,)\n",
      "(462,)\n"
     ]
    }
   ],
   "source": [
    "# Split geodemo training set into train and validation set\n",
    "X_train_geo, X_val_geo, y_train_geo, y_val_geo = train_test_split(train_gdata.loc[:, train_gdata.columns != 'SalePrice'], \n",
    "                                                                  train_gdata['SalePrice'],\n",
    "                                                                  test_size=0.2, random_state=42)\n",
    "\n",
    "X_train_geo = X_train_geo.values\n",
    "X_val_geo = X_val_geo.values\n",
    "y_train_geo = y_train_geo.values\n",
    "y_val_geo = y_val_geo.values\n",
    "\n",
    "print(X_train_geo.shape)\n",
    "print(X_val_geo.shape)\n",
    "print(y_train_geo.shape)\n",
    "print(y_val_geo.shape)"
   ]
  },
  {
   "cell_type": "markdown",
   "metadata": {},
   "source": [
    "# Gaussian Process  \n",
    "http://scikit-learn.org/stable/modules/gaussian_process.html  \n",
    "http://scikit-learn.org/stable/modules/generated/sklearn.gaussian_process.GaussianProcessRegressor.html#sklearn.gaussian_process.GaussianProcessRegressor  \n",
    "http://scikit-learn.org/stable/modules/generated/sklearn.preprocessing.StandardScaler.html  \n",
    "https://en.wikipedia.org/wiki/Gaussian_process  "
   ]
  },
  {
   "cell_type": "markdown",
   "metadata": {},
   "source": [
    "Issue with kernels: https://github.com/scikit-learn/scikit-learn/pull/7385"
   ]
  },
  {
   "cell_type": "code",
   "execution_count": 8,
   "metadata": {
    "collapsed": true
   },
   "outputs": [],
   "source": [
    "from sklearn.gaussian_process import GaussianProcessRegressor\n",
    "from sklearn.gaussian_process.kernels import WhiteKernel, Matern, RBF, DotProduct, RationalQuadratic, ConstantKernel as C\n",
    "from sklearn.model_selection import cross_val_predict\n",
    "from sklearn.pipeline import Pipeline\n",
    "from sklearn.preprocessing import StandardScaler, RobustScaler"
   ]
  },
  {
   "cell_type": "code",
   "execution_count": 11,
   "metadata": {
    "collapsed": true
   },
   "outputs": [],
   "source": [
    "#kernel = 1.0**2 * Matern(length_scale=1.0, length_scale_bounds=(1e-05, 100000.0), nu=0.5)\n",
    "#gpr = GaussianProcessRegressor(kernel=kernel, normalize_y=True, random_state=42)\n",
    "gpr = GaussianProcessRegressor(normalize_y=True, random_state=42)\n",
    "\n",
    "pipe = Pipeline([('scaler', StandardScaler()), ('gpr', gpr)])"
   ]
  },
  {
   "cell_type": "code",
   "execution_count": 90,
   "metadata": {
    "scrolled": true
   },
   "outputs": [
    {
     "name": "stderr",
     "output_type": "stream",
     "text": [
      "D:\\ProgramData\\Anaconda3\\envs\\school\\lib\\site-packages\\sklearn\\gaussian_process\\gpr.py:457: UserWarning: fmin_l_bfgs_b terminated abnormally with the  state: {'grad': array([ -4.85956300e+12,  -1.98406438e+12]), 'task': b'ABNORMAL_TERMINATION_IN_LNSRCH', 'funcalls': 82, 'nit': 2, 'warnflag': 2}\n",
      "  \" state: %s\" % convergence_dict)\n",
      "D:\\ProgramData\\Anaconda3\\envs\\school\\lib\\site-packages\\sklearn\\gaussian_process\\gpr.py:457: UserWarning: fmin_l_bfgs_b terminated abnormally with the  state: {'grad': array([ -1.49578279e+12,  -5.17028223e+11]), 'task': b'ABNORMAL_TERMINATION_IN_LNSRCH', 'funcalls': 64, 'nit': 3, 'warnflag': 2}\n",
      "  \" state: %s\" % convergence_dict)\n",
      "D:\\ProgramData\\Anaconda3\\envs\\school\\lib\\site-packages\\sklearn\\gaussian_process\\gpr.py:457: UserWarning: fmin_l_bfgs_b terminated abnormally with the  state: {'grad': array([ -7.03689582e+13,  -7.37013503e-01]), 'task': b'ABNORMAL_TERMINATION_IN_LNSRCH', 'funcalls': 55, 'nit': 3, 'warnflag': 2}\n",
      "  \" state: %s\" % convergence_dict)\n",
      "D:\\ProgramData\\Anaconda3\\envs\\school\\lib\\site-packages\\sklearn\\gaussian_process\\kernels.py:1362: RuntimeWarning: invalid value encountered in true_divide\n",
      "  / np.sqrt(D.sum(2))[:, :, np.newaxis]\n",
      "D:\\ProgramData\\Anaconda3\\envs\\school\\lib\\site-packages\\sklearn\\gaussian_process\\gpr.py:457: UserWarning: fmin_l_bfgs_b terminated abnormally with the  state: {'grad': array([ -2.17680021e+14,   1.05467085e+13]), 'task': b'ABNORMAL_TERMINATION_IN_LNSRCH', 'funcalls': 60, 'nit': 3, 'warnflag': 2}\n",
      "  \" state: %s\" % convergence_dict)\n",
      "D:\\ProgramData\\Anaconda3\\envs\\school\\lib\\site-packages\\sklearn\\gaussian_process\\kernels.py:1362: RuntimeWarning: invalid value encountered in true_divide\n",
      "  / np.sqrt(D.sum(2))[:, :, np.newaxis]\n",
      "D:\\ProgramData\\Anaconda3\\envs\\school\\lib\\site-packages\\sklearn\\gaussian_process\\kernels.py:1362: RuntimeWarning: invalid value encountered in true_divide\n",
      "  / np.sqrt(D.sum(2))[:, :, np.newaxis]\n",
      "D:\\ProgramData\\Anaconda3\\envs\\school\\lib\\site-packages\\sklearn\\gaussian_process\\gpr.py:457: UserWarning: fmin_l_bfgs_b terminated abnormally with the  state: {'grad': array([ -4.02865428e+11,  -1.03630292e+11]), 'task': b'ABNORMAL_TERMINATION_IN_LNSRCH', 'funcalls': 51, 'nit': 4, 'warnflag': 2}\n",
      "  \" state: %s\" % convergence_dict)\n",
      "D:\\ProgramData\\Anaconda3\\envs\\school\\lib\\site-packages\\sklearn\\gaussian_process\\kernels.py:1362: RuntimeWarning: invalid value encountered in true_divide\n",
      "  / np.sqrt(D.sum(2))[:, :, np.newaxis]\n",
      "D:\\ProgramData\\Anaconda3\\envs\\school\\lib\\site-packages\\sklearn\\gaussian_process\\kernels.py:1362: RuntimeWarning: invalid value encountered in true_divide\n",
      "  / np.sqrt(D.sum(2))[:, :, np.newaxis]\n",
      "D:\\ProgramData\\Anaconda3\\envs\\school\\lib\\site-packages\\sklearn\\gaussian_process\\kernels.py:1362: RuntimeWarning: invalid value encountered in true_divide\n",
      "  / np.sqrt(D.sum(2))[:, :, np.newaxis]\n",
      "D:\\ProgramData\\Anaconda3\\envs\\school\\lib\\site-packages\\sklearn\\gaussian_process\\kernels.py:1362: RuntimeWarning: invalid value encountered in true_divide\n",
      "  / np.sqrt(D.sum(2))[:, :, np.newaxis]\n",
      "D:\\ProgramData\\Anaconda3\\envs\\school\\lib\\site-packages\\sklearn\\gaussian_process\\kernels.py:1362: RuntimeWarning: invalid value encountered in true_divide\n",
      "  / np.sqrt(D.sum(2))[:, :, np.newaxis]\n",
      "D:\\ProgramData\\Anaconda3\\envs\\school\\lib\\site-packages\\sklearn\\gaussian_process\\kernels.py:1362: RuntimeWarning: invalid value encountered in true_divide\n",
      "  / np.sqrt(D.sum(2))[:, :, np.newaxis]\n",
      "D:\\ProgramData\\Anaconda3\\envs\\school\\lib\\site-packages\\sklearn\\gaussian_process\\kernels.py:1362: RuntimeWarning: invalid value encountered in true_divide\n",
      "  / np.sqrt(D.sum(2))[:, :, np.newaxis]\n",
      "D:\\ProgramData\\Anaconda3\\envs\\school\\lib\\site-packages\\sklearn\\gaussian_process\\kernels.py:1362: RuntimeWarning: invalid value encountered in true_divide\n",
      "  / np.sqrt(D.sum(2))[:, :, np.newaxis]\n",
      "D:\\ProgramData\\Anaconda3\\envs\\school\\lib\\site-packages\\sklearn\\gaussian_process\\kernels.py:1362: RuntimeWarning: invalid value encountered in true_divide\n",
      "  / np.sqrt(D.sum(2))[:, :, np.newaxis]\n",
      "D:\\ProgramData\\Anaconda3\\envs\\school\\lib\\site-packages\\sklearn\\gaussian_process\\kernels.py:1362: RuntimeWarning: invalid value encountered in true_divide\n",
      "  / np.sqrt(D.sum(2))[:, :, np.newaxis]\n",
      "D:\\ProgramData\\Anaconda3\\envs\\school\\lib\\site-packages\\sklearn\\gaussian_process\\gpr.py:457: UserWarning: fmin_l_bfgs_b terminated abnormally with the  state: {'grad': array([ -6.59544269e+11,  -5.33539126e+11]), 'task': b'ABNORMAL_TERMINATION_IN_LNSRCH', 'funcalls': 85, 'nit': 4, 'warnflag': 2}\n",
      "  \" state: %s\" % convergence_dict)\n",
      "D:\\ProgramData\\Anaconda3\\envs\\school\\lib\\site-packages\\sklearn\\gaussian_process\\kernels.py:1362: RuntimeWarning: invalid value encountered in true_divide\n",
      "  / np.sqrt(D.sum(2))[:, :, np.newaxis]\n",
      "D:\\ProgramData\\Anaconda3\\envs\\school\\lib\\site-packages\\sklearn\\gaussian_process\\gpr.py:457: UserWarning: fmin_l_bfgs_b terminated abnormally with the  state: {'grad': array([ -3.91526484e+11,  -1.47200707e+11]), 'task': b'ABNORMAL_TERMINATION_IN_LNSRCH', 'funcalls': 65, 'nit': 5, 'warnflag': 2}\n",
      "  \" state: %s\" % convergence_dict)\n",
      "D:\\ProgramData\\Anaconda3\\envs\\school\\lib\\site-packages\\sklearn\\gaussian_process\\kernels.py:1362: RuntimeWarning: invalid value encountered in true_divide\n",
      "  / np.sqrt(D.sum(2))[:, :, np.newaxis]\n",
      "D:\\ProgramData\\Anaconda3\\envs\\school\\lib\\site-packages\\sklearn\\gaussian_process\\kernels.py:1362: RuntimeWarning: invalid value encountered in true_divide\n",
      "  / np.sqrt(D.sum(2))[:, :, np.newaxis]\n",
      "D:\\ProgramData\\Anaconda3\\envs\\school\\lib\\site-packages\\sklearn\\gaussian_process\\kernels.py:1362: RuntimeWarning: invalid value encountered in true_divide\n",
      "  / np.sqrt(D.sum(2))[:, :, np.newaxis]\n",
      "D:\\ProgramData\\Anaconda3\\envs\\school\\lib\\site-packages\\sklearn\\gaussian_process\\kernels.py:1362: RuntimeWarning: invalid value encountered in true_divide\n",
      "  / np.sqrt(D.sum(2))[:, :, np.newaxis]\n",
      "D:\\ProgramData\\Anaconda3\\envs\\school\\lib\\site-packages\\sklearn\\gaussian_process\\gpr.py:457: UserWarning: fmin_l_bfgs_b terminated abnormally with the  state: {'grad': array([ -1.20638828e+12,  -3.36496758e+11]), 'task': b'ABNORMAL_TERMINATION_IN_LNSRCH', 'funcalls': 39, 'nit': 1, 'warnflag': 2}\n",
      "  \" state: %s\" % convergence_dict)\n",
      "D:\\ProgramData\\Anaconda3\\envs\\school\\lib\\site-packages\\sklearn\\gaussian_process\\kernels.py:1362: RuntimeWarning: invalid value encountered in true_divide\n",
      "  / np.sqrt(D.sum(2))[:, :, np.newaxis]\n",
      "D:\\ProgramData\\Anaconda3\\envs\\school\\lib\\site-packages\\sklearn\\gaussian_process\\gpr.py:457: UserWarning: fmin_l_bfgs_b terminated abnormally with the  state: {'grad': array([ -5.72417084e+11,  -1.93305898e+10]), 'task': b'ABNORMAL_TERMINATION_IN_LNSRCH', 'funcalls': 45, 'nit': 3, 'warnflag': 2}\n",
      "  \" state: %s\" % convergence_dict)\n",
      "D:\\ProgramData\\Anaconda3\\envs\\school\\lib\\site-packages\\sklearn\\gaussian_process\\kernels.py:1362: RuntimeWarning: invalid value encountered in true_divide\n",
      "  / np.sqrt(D.sum(2))[:, :, np.newaxis]\n",
      "D:\\ProgramData\\Anaconda3\\envs\\school\\lib\\site-packages\\sklearn\\gaussian_process\\kernels.py:1362: RuntimeWarning: invalid value encountered in true_divide\n",
      "  / np.sqrt(D.sum(2))[:, :, np.newaxis]\n",
      "D:\\ProgramData\\Anaconda3\\envs\\school\\lib\\site-packages\\sklearn\\gaussian_process\\kernels.py:1362: RuntimeWarning: invalid value encountered in true_divide\n",
      "  / np.sqrt(D.sum(2))[:, :, np.newaxis]\n",
      "D:\\ProgramData\\Anaconda3\\envs\\school\\lib\\site-packages\\sklearn\\gaussian_process\\kernels.py:1362: RuntimeWarning: invalid value encountered in true_divide\n",
      "  / np.sqrt(D.sum(2))[:, :, np.newaxis]\n",
      "D:\\ProgramData\\Anaconda3\\envs\\school\\lib\\site-packages\\sklearn\\gaussian_process\\kernels.py:1362: RuntimeWarning: invalid value encountered in true_divide\n",
      "  / np.sqrt(D.sum(2))[:, :, np.newaxis]\n",
      "D:\\ProgramData\\Anaconda3\\envs\\school\\lib\\site-packages\\sklearn\\gaussian_process\\kernels.py:1362: RuntimeWarning: invalid value encountered in true_divide\n",
      "  / np.sqrt(D.sum(2))[:, :, np.newaxis]\n",
      "D:\\ProgramData\\Anaconda3\\envs\\school\\lib\\site-packages\\sklearn\\gaussian_process\\gpr.py:457: UserWarning: fmin_l_bfgs_b terminated abnormally with the  state: {'grad': array([ -1.77940013e+11,  -1.85064814e+11]), 'task': b'ABNORMAL_TERMINATION_IN_LNSRCH', 'funcalls': 52, 'nit': 6, 'warnflag': 2}\n",
      "  \" state: %s\" % convergence_dict)\n",
      "D:\\ProgramData\\Anaconda3\\envs\\school\\lib\\site-packages\\sklearn\\gaussian_process\\gpr.py:457: UserWarning: fmin_l_bfgs_b terminated abnormally with the  state: {'grad': array([  1.62043265e+11,   4.29570042e+11]), 'task': b'ABNORMAL_TERMINATION_IN_LNSRCH', 'funcalls': 54, 'nit': 3, 'warnflag': 2}\n",
      "  \" state: %s\" % convergence_dict)\n"
     ]
    },
    {
     "name": "stderr",
     "output_type": "stream",
     "text": [
      "D:\\ProgramData\\Anaconda3\\envs\\school\\lib\\site-packages\\sklearn\\gaussian_process\\gpr.py:457: UserWarning: fmin_l_bfgs_b terminated abnormally with the  state: {'grad': array([  1.09116216e+11,   3.45444619e+10]), 'task': b'ABNORMAL_TERMINATION_IN_LNSRCH', 'funcalls': 47, 'nit': 2, 'warnflag': 2}\n",
      "  \" state: %s\" % convergence_dict)\n",
      "D:\\ProgramData\\Anaconda3\\envs\\school\\lib\\site-packages\\sklearn\\gaussian_process\\gpr.py:457: UserWarning: fmin_l_bfgs_b terminated abnormally with the  state: {'grad': array([ -2.11106470e+14,  -0.00000000e+00]), 'task': b'ABNORMAL_TERMINATION_IN_LNSRCH', 'funcalls': 77, 'nit': 5, 'warnflag': 2}\n",
      "  \" state: %s\" % convergence_dict)\n",
      "D:\\ProgramData\\Anaconda3\\envs\\school\\lib\\site-packages\\sklearn\\gaussian_process\\gpr.py:457: UserWarning: fmin_l_bfgs_b terminated abnormally with the  state: {'grad': array([ -3.51846142e+13,  -2.38478556e+06]), 'task': b'ABNORMAL_TERMINATION_IN_LNSRCH', 'funcalls': 85, 'nit': 7, 'warnflag': 2}\n",
      "  \" state: %s\" % convergence_dict)\n",
      "D:\\ProgramData\\Anaconda3\\envs\\school\\lib\\site-packages\\sklearn\\gaussian_process\\gpr.py:457: UserWarning: fmin_l_bfgs_b terminated abnormally with the  state: {'grad': array([ -1.22996153e+12,  -7.95813208e+11]), 'task': b'ABNORMAL_TERMINATION_IN_LNSRCH', 'funcalls': 52, 'nit': 3, 'warnflag': 2}\n",
      "  \" state: %s\" % convergence_dict)\n",
      "D:\\ProgramData\\Anaconda3\\envs\\school\\lib\\site-packages\\sklearn\\gaussian_process\\gpr.py:457: UserWarning: fmin_l_bfgs_b terminated abnormally with the  state: {'grad': array([ -7.03689504e+13,  -0.00000000e+00]), 'task': b'ABNORMAL_TERMINATION_IN_LNSRCH', 'funcalls': 81, 'nit': 5, 'warnflag': 2}\n",
      "  \" state: %s\" % convergence_dict)\n",
      "D:\\ProgramData\\Anaconda3\\envs\\school\\lib\\site-packages\\sklearn\\gaussian_process\\gpr.py:457: UserWarning: fmin_l_bfgs_b terminated abnormally with the  state: {'grad': array([ -1.92329658e+12,  -4.68363725e+11]), 'task': b'ABNORMAL_TERMINATION_IN_LNSRCH', 'funcalls': 54, 'nit': 3, 'warnflag': 2}\n",
      "  \" state: %s\" % convergence_dict)\n",
      "D:\\ProgramData\\Anaconda3\\envs\\school\\lib\\site-packages\\sklearn\\gaussian_process\\gpr.py:457: UserWarning: fmin_l_bfgs_b terminated abnormally with the  state: {'grad': array([ -1.60501738e+12,  -2.52019155e+11]), 'task': b'ABNORMAL_TERMINATION_IN_LNSRCH', 'funcalls': 59, 'nit': 6, 'warnflag': 2}\n",
      "  \" state: %s\" % convergence_dict)\n",
      "D:\\ProgramData\\Anaconda3\\envs\\school\\lib\\site-packages\\sklearn\\gaussian_process\\gpr.py:457: UserWarning: fmin_l_bfgs_b terminated abnormally with the  state: {'grad': array([ -4.26766614e+12,  -3.28902747e+12]), 'task': b'ABNORMAL_TERMINATION_IN_LNSRCH', 'funcalls': 107, 'nit': 3, 'warnflag': 2}\n",
      "  \" state: %s\" % convergence_dict)\n",
      "D:\\ProgramData\\Anaconda3\\envs\\school\\lib\\site-packages\\sklearn\\gaussian_process\\gpr.py:457: UserWarning: fmin_l_bfgs_b terminated abnormally with the  state: {'grad': array([  5.09830396e+11,  -2.01852604e+11]), 'task': b'ABNORMAL_TERMINATION_IN_LNSRCH', 'funcalls': 68, 'nit': 6, 'warnflag': 2}\n",
      "  \" state: %s\" % convergence_dict)\n",
      "D:\\ProgramData\\Anaconda3\\envs\\school\\lib\\site-packages\\sklearn\\gaussian_process\\gpr.py:457: UserWarning: fmin_l_bfgs_b terminated abnormally with the  state: {'grad': array([  3.51841637e+13,  -0.00000000e+00]), 'task': b'ABNORMAL_TERMINATION_IN_LNSRCH', 'funcalls': 64, 'nit': 3, 'warnflag': 2}\n",
      "  \" state: %s\" % convergence_dict)\n",
      "D:\\ProgramData\\Anaconda3\\envs\\school\\lib\\site-packages\\sklearn\\gaussian_process\\gpr.py:457: UserWarning: fmin_l_bfgs_b terminated abnormally with the  state: {'grad': array([ -4.94701986e+12,   2.46539459e+12,  -8.63298835e+11]), 'task': b'ABNORMAL_TERMINATION_IN_LNSRCH', 'funcalls': 21, 'nit': 0, 'warnflag': 2}\n",
      "  \" state: %s\" % convergence_dict)\n",
      "D:\\ProgramData\\Anaconda3\\envs\\school\\lib\\site-packages\\sklearn\\gaussian_process\\gpr.py:457: UserWarning: fmin_l_bfgs_b terminated abnormally with the  state: {'grad': array([ -4.63373909e+12,   2.31985103e+12,  -8.13765806e+11]), 'task': b'ABNORMAL_TERMINATION_IN_LNSRCH', 'funcalls': 65, 'nit': 2, 'warnflag': 2}\n",
      "  \" state: %s\" % convergence_dict)\n",
      "D:\\ProgramData\\Anaconda3\\envs\\school\\lib\\site-packages\\sklearn\\gaussian_process\\gpr.py:457: UserWarning: fmin_l_bfgs_b terminated abnormally with the  state: {'grad': array([ -3.27534412e+12,   3.52864715e+12,  -1.86708472e+12]), 'task': b'ABNORMAL_TERMINATION_IN_LNSRCH', 'funcalls': 37, 'nit': 1, 'warnflag': 2}\n",
      "  \" state: %s\" % convergence_dict)\n",
      "D:\\ProgramData\\Anaconda3\\envs\\school\\lib\\site-packages\\sklearn\\gaussian_process\\gpr.py:457: UserWarning: fmin_l_bfgs_b terminated abnormally with the  state: {'grad': array([ -3.27184787e+12,   3.60668146e+12,  -1.91561605e+12]), 'task': b'ABNORMAL_TERMINATION_IN_LNSRCH', 'funcalls': 21, 'nit': 0, 'warnflag': 2}\n",
      "  \" state: %s\" % convergence_dict)\n",
      "D:\\ProgramData\\Anaconda3\\envs\\school\\lib\\site-packages\\sklearn\\gaussian_process\\gpr.py:457: UserWarning: fmin_l_bfgs_b terminated abnormally with the  state: {'grad': array([ -3.09825866e+12,   3.39569437e+12,  -1.80723304e+12]), 'task': b'ABNORMAL_TERMINATION_IN_LNSRCH', 'funcalls': 21, 'nit': 0, 'warnflag': 2}\n",
      "  \" state: %s\" % convergence_dict)\n",
      "D:\\ProgramData\\Anaconda3\\envs\\school\\lib\\site-packages\\sklearn\\gaussian_process\\gpr.py:457: UserWarning: fmin_l_bfgs_b terminated abnormally with the  state: {'grad': array([ -2.92289290e+12,   3.36054788e+12,  -1.78701996e+12]), 'task': b'ABNORMAL_TERMINATION_IN_LNSRCH', 'funcalls': 60, 'nit': 1, 'warnflag': 2}\n",
      "  \" state: %s\" % convergence_dict)\n",
      "D:\\ProgramData\\Anaconda3\\envs\\school\\lib\\site-packages\\sklearn\\gaussian_process\\gpr.py:457: UserWarning: fmin_l_bfgs_b terminated abnormally with the  state: {'grad': array([  2.54066917e+14,  -3.80806129e+12,   1.19204704e+11]), 'task': b'ABNORMAL_TERMINATION_IN_LNSRCH', 'funcalls': 80, 'nit': 4, 'warnflag': 2}\n",
      "  \" state: %s\" % convergence_dict)\n",
      "D:\\ProgramData\\Anaconda3\\envs\\school\\lib\\site-packages\\sklearn\\gaussian_process\\gpr.py:457: UserWarning: fmin_l_bfgs_b terminated abnormally with the  state: {'grad': array([ -1.54378167e+12,   8.86182198e+11,  -8.61566241e+11]), 'task': b'ABNORMAL_TERMINATION_IN_LNSRCH', 'funcalls': 57, 'nit': 1, 'warnflag': 2}\n",
      "  \" state: %s\" % convergence_dict)\n",
      "D:\\ProgramData\\Anaconda3\\envs\\school\\lib\\site-packages\\sklearn\\gaussian_process\\gpr.py:457: UserWarning: fmin_l_bfgs_b terminated abnormally with the  state: {'grad': array([ -1.50943384e+12,   8.02671501e+11,  -7.80298507e+11]), 'task': b'ABNORMAL_TERMINATION_IN_LNSRCH', 'funcalls': 31, 'nit': 1, 'warnflag': 2}\n",
      "  \" state: %s\" % convergence_dict)\n",
      "D:\\ProgramData\\Anaconda3\\envs\\school\\lib\\site-packages\\sklearn\\gaussian_process\\gpr.py:457: UserWarning: fmin_l_bfgs_b terminated abnormally with the  state: {'grad': array([ -1.40679752e+12,   8.34773426e+11,  -8.21793013e+11]), 'task': b'ABNORMAL_TERMINATION_IN_LNSRCH', 'funcalls': 21, 'nit': 0, 'warnflag': 2}\n",
      "  \" state: %s\" % convergence_dict)\n",
      "D:\\ProgramData\\Anaconda3\\envs\\school\\lib\\site-packages\\sklearn\\gaussian_process\\gpr.py:457: UserWarning: fmin_l_bfgs_b terminated abnormally with the  state: {'grad': array([ -2.01488425e+14,  -3.50668968e+12,   8.74972367e+10]), 'task': b'ABNORMAL_TERMINATION_IN_LNSRCH', 'funcalls': 81, 'nit': 2, 'warnflag': 2}\n",
      "  \" state: %s\" % convergence_dict)\n",
      "D:\\ProgramData\\Anaconda3\\envs\\school\\lib\\site-packages\\sklearn\\gaussian_process\\gpr.py:457: UserWarning: fmin_l_bfgs_b terminated abnormally with the  state: {'grad': array([ -1.40714964e+13,  -5.76273671e+12,   2.04208254e+11]), 'task': b'ABNORMAL_TERMINATION_IN_LNSRCH', 'funcalls': 46, 'nit': 5, 'warnflag': 2}\n",
      "  \" state: %s\" % convergence_dict)\n",
      "D:\\ProgramData\\Anaconda3\\envs\\school\\lib\\site-packages\\sklearn\\gaussian_process\\gpr.py:457: UserWarning: fmin_l_bfgs_b terminated abnormally with the  state: {'grad': array([  3.51841486e+13,  -0.00000000e+00,  -0.00000000e+00]), 'task': b'ABNORMAL_TERMINATION_IN_LNSRCH', 'funcalls': 99, 'nit': 10, 'warnflag': 2}\n",
      "  \" state: %s\" % convergence_dict)\n",
      "D:\\ProgramData\\Anaconda3\\envs\\school\\lib\\site-packages\\sklearn\\gaussian_process\\gpr.py:457: UserWarning: fmin_l_bfgs_b terminated abnormally with the  state: {'grad': array([  4.29264327e+14,  -2.98378593e+12,   9.09485397e+10]), 'task': b'ABNORMAL_TERMINATION_IN_LNSRCH', 'funcalls': 76, 'nit': 4, 'warnflag': 2}\n",
      "  \" state: %s\" % convergence_dict)\n"
     ]
    },
    {
     "name": "stderr",
     "output_type": "stream",
     "text": [
      "D:\\ProgramData\\Anaconda3\\envs\\school\\lib\\site-packages\\sklearn\\gaussian_process\\gpr.py:457: UserWarning: fmin_l_bfgs_b terminated abnormally with the  state: {'grad': array([  1.05552910e+14,  -0.00000000e+00,  -0.00000000e+00]), 'task': b'ABNORMAL_TERMINATION_IN_LNSRCH', 'funcalls': 86, 'nit': 4, 'warnflag': 2}\n",
      "  \" state: %s\" % convergence_dict)\n",
      "D:\\ProgramData\\Anaconda3\\envs\\school\\lib\\site-packages\\sklearn\\gaussian_process\\gpr.py:457: UserWarning: fmin_l_bfgs_b terminated abnormally with the  state: {'grad': array([ -3.25508554e+12,   1.92319395e+12,  -3.46508538e+12]), 'task': b'ABNORMAL_TERMINATION_IN_LNSRCH', 'funcalls': 80, 'nit': 2, 'warnflag': 2}\n",
      "  \" state: %s\" % convergence_dict)\n",
      "D:\\ProgramData\\Anaconda3\\envs\\school\\lib\\site-packages\\sklearn\\gaussian_process\\gpr.py:457: UserWarning: fmin_l_bfgs_b terminated abnormally with the  state: {'grad': array([ -2.11635137e+11,   1.61469216e+10,  -3.80412825e+10]), 'task': b'ABNORMAL_TERMINATION_IN_LNSRCH', 'funcalls': 65, 'nit': 8, 'warnflag': 2}\n",
      "  \" state: %s\" % convergence_dict)\n",
      "D:\\ProgramData\\Anaconda3\\envs\\school\\lib\\site-packages\\sklearn\\gaussian_process\\gpr.py:457: UserWarning: fmin_l_bfgs_b terminated abnormally with the  state: {'grad': array([ -8.07045757e+11,   2.33842833e+11,  -1.32255497e+10]), 'task': b'ABNORMAL_TERMINATION_IN_LNSRCH', 'funcalls': 75, 'nit': 4, 'warnflag': 2}\n",
      "  \" state: %s\" % convergence_dict)\n",
      "D:\\ProgramData\\Anaconda3\\envs\\school\\lib\\site-packages\\sklearn\\gaussian_process\\gpr.py:457: UserWarning: fmin_l_bfgs_b terminated abnormally with the  state: {'grad': array([  6.13672513e+13,  -4.06372428e+12,   1.25687535e+11]), 'task': b'ABNORMAL_TERMINATION_IN_LNSRCH', 'funcalls': 87, 'nit': 7, 'warnflag': 2}\n",
      "  \" state: %s\" % convergence_dict)\n",
      "D:\\ProgramData\\Anaconda3\\envs\\school\\lib\\site-packages\\sklearn\\gaussian_process\\gpr.py:457: UserWarning: fmin_l_bfgs_b terminated abnormally with the  state: {'grad': array([ -1.43409693e+12,   2.91598072e+11,   1.73313891e+12]), 'task': b'ABNORMAL_TERMINATION_IN_LNSRCH', 'funcalls': 98, 'nit': 4, 'warnflag': 2}\n",
      "  \" state: %s\" % convergence_dict)\n",
      "D:\\ProgramData\\Anaconda3\\envs\\school\\lib\\site-packages\\sklearn\\gaussian_process\\gpr.py:457: UserWarning: fmin_l_bfgs_b terminated abnormally with the  state: {'grad': array([  1.63034401e+14,  -3.29843687e+12,   1.07988417e+11]), 'task': b'ABNORMAL_TERMINATION_IN_LNSRCH', 'funcalls': 120, 'nit': 7, 'warnflag': 2}\n",
      "  \" state: %s\" % convergence_dict)\n",
      "D:\\ProgramData\\Anaconda3\\envs\\school\\lib\\site-packages\\sklearn\\gaussian_process\\gpr.py:457: UserWarning: fmin_l_bfgs_b terminated abnormally with the  state: {'grad': array([  3.49953343e+14,  -2.77265759e+12,   9.00792350e+10]), 'task': b'ABNORMAL_TERMINATION_IN_LNSRCH', 'funcalls': 84, 'nit': 3, 'warnflag': 2}\n",
      "  \" state: %s\" % convergence_dict)\n",
      "D:\\ProgramData\\Anaconda3\\envs\\school\\lib\\site-packages\\sklearn\\gaussian_process\\gpr.py:457: UserWarning: fmin_l_bfgs_b terminated abnormally with the  state: {'grad': array([ -5.22245825e+12,   1.02461607e+09,  -1.18704096e+10]), 'task': b'ABNORMAL_TERMINATION_IN_LNSRCH', 'funcalls': 40, 'nit': 1, 'warnflag': 2}\n",
      "  \" state: %s\" % convergence_dict)\n",
      "D:\\ProgramData\\Anaconda3\\envs\\school\\lib\\site-packages\\sklearn\\gaussian_process\\gpr.py:457: UserWarning: fmin_l_bfgs_b terminated abnormally with the  state: {'grad': array([ -4.85008090e+12,   4.35759413e+11,  -2.96123821e+12]), 'task': b'ABNORMAL_TERMINATION_IN_LNSRCH', 'funcalls': 34, 'nit': 1, 'warnflag': 2}\n",
      "  \" state: %s\" % convergence_dict)\n",
      "D:\\ProgramData\\Anaconda3\\envs\\school\\lib\\site-packages\\sklearn\\gaussian_process\\gpr.py:457: UserWarning: fmin_l_bfgs_b terminated abnormally with the  state: {'grad': array([ -4.84073150e+12,   4.52657690e+11,  -3.11138275e+12]), 'task': b'ABNORMAL_TERMINATION_IN_LNSRCH', 'funcalls': 21, 'nit': 0, 'warnflag': 2}\n",
      "  \" state: %s\" % convergence_dict)\n",
      "D:\\ProgramData\\Anaconda3\\envs\\school\\lib\\site-packages\\sklearn\\gaussian_process\\gpr.py:457: UserWarning: fmin_l_bfgs_b terminated abnormally with the  state: {'grad': array([ -7.53046424e+11,   2.28377750e+11,  -1.61380330e+11]), 'task': b'ABNORMAL_TERMINATION_IN_LNSRCH', 'funcalls': 46, 'nit': 1, 'warnflag': 2}\n",
      "  \" state: %s\" % convergence_dict)\n",
      "D:\\ProgramData\\Anaconda3\\envs\\school\\lib\\site-packages\\sklearn\\gaussian_process\\gpr.py:457: UserWarning: fmin_l_bfgs_b terminated abnormally with the  state: {'grad': array([  2.35767733e+13,  -3.47908204e+12,   1.08136191e+11]), 'task': b'ABNORMAL_TERMINATION_IN_LNSRCH', 'funcalls': 61, 'nit': 4, 'warnflag': 2}\n",
      "  \" state: %s\" % convergence_dict)\n",
      "D:\\ProgramData\\Anaconda3\\envs\\school\\lib\\site-packages\\sklearn\\gaussian_process\\gpr.py:457: UserWarning: fmin_l_bfgs_b terminated abnormally with the  state: {'grad': array([  6.96748304e+12,  -3.49328147e+12,   1.11883266e+11]), 'task': b'ABNORMAL_TERMINATION_IN_LNSRCH', 'funcalls': 109, 'nit': 4, 'warnflag': 2}\n",
      "  \" state: %s\" % convergence_dict)\n",
      "D:\\ProgramData\\Anaconda3\\envs\\school\\lib\\site-packages\\sklearn\\gaussian_process\\gpr.py:457: UserWarning: fmin_l_bfgs_b terminated abnormally with the  state: {'grad': array([  6.03327455e+14,  -2.71071926e+12,   9.48759600e+10]), 'task': b'ABNORMAL_TERMINATION_IN_LNSRCH', 'funcalls': 44, 'nit': 2, 'warnflag': 2}\n",
      "  \" state: %s\" % convergence_dict)\n",
      "D:\\ProgramData\\Anaconda3\\envs\\school\\lib\\site-packages\\sklearn\\gaussian_process\\kernels.py:1362: RuntimeWarning: invalid value encountered in true_divide\n",
      "  / np.sqrt(D.sum(2))[:, :, np.newaxis]\n",
      "D:\\ProgramData\\Anaconda3\\envs\\school\\lib\\site-packages\\sklearn\\gaussian_process\\gpr.py:457: UserWarning: fmin_l_bfgs_b terminated abnormally with the  state: {'grad': array([ -1.43553555e+12,  -4.91483093e+11]), 'task': b'ABNORMAL_TERMINATION_IN_LNSRCH', 'funcalls': 27, 'nit': 1, 'warnflag': 2}\n",
      "  \" state: %s\" % convergence_dict)\n"
     ]
    },
    {
     "name": "stdout",
     "output_type": "stream",
     "text": [
      "Best parameters set found on development set:\n",
      "\n",
      "{'gpr__kernel': 1**2 * Matern(length_scale=3, nu=0.5)}\n",
      "\n",
      "Grid scores on development set:\n",
      "\n",
      "0.160 (+/-0.639) for {'gpr__kernel': 1**2 * RBF(length_scale=0.1)}\n",
      "0.160 (+/-0.638) for {'gpr__kernel': 1**2 * RBF(length_scale=0.3)}\n",
      "0.357 (+/-0.654) for {'gpr__kernel': 1**2 * RBF(length_scale=1)}\n",
      "-0.000 (+/-0.006) for {'gpr__kernel': 1**2 * RBF(length_scale=3)}\n",
      "-0.000 (+/-0.006) for {'gpr__kernel': 1**2 * RBF(length_scale=10)}\n",
      "0.885 (+/-0.059) for {'gpr__kernel': 1**2 * Matern(length_scale=0.1, nu=0.5)}\n",
      "0.548 (+/-0.892) for {'gpr__kernel': 1**2 * Matern(length_scale=0.3, nu=0.5)}\n",
      "0.702 (+/-0.701) for {'gpr__kernel': 1**2 * Matern(length_scale=1, nu=0.5)}\n",
      "0.899 (+/-0.050) for {'gpr__kernel': 1**2 * Matern(length_scale=3, nu=0.5)}\n",
      "-0.000 (+/-0.006) for {'gpr__kernel': 1**2 * Matern(length_scale=10, nu=0.5)}\n",
      "0.698 (+/-0.702) for {'gpr__kernel': 1**2 * Matern(length_scale=0.1, nu=1.5)}\n",
      "0.708 (+/-0.711) for {'gpr__kernel': 1**2 * Matern(length_scale=0.3, nu=1.5)}\n",
      "0.534 (+/-0.879) for {'gpr__kernel': 1**2 * Matern(length_scale=1, nu=1.5)}\n",
      "0.350 (+/-0.858) for {'gpr__kernel': 1**2 * Matern(length_scale=3, nu=1.5)}\n",
      "0.151 (+/-0.605) for {'gpr__kernel': 1**2 * Matern(length_scale=10, nu=1.5)}\n",
      "0.555 (+/-0.728) for {'gpr__kernel': 1**2 * Matern(length_scale=0.1, nu=2.5)}\n",
      "0.176 (+/-0.701) for {'gpr__kernel': 1**2 * Matern(length_scale=0.3, nu=2.5)}\n",
      "0.339 (+/-0.579) for {'gpr__kernel': 1**2 * Matern(length_scale=1, nu=2.5)}\n",
      "0.165 (+/-0.663) for {'gpr__kernel': 1**2 * Matern(length_scale=3, nu=2.5)}\n",
      "-0.000 (+/-0.006) for {'gpr__kernel': 1**2 * Matern(length_scale=10, nu=2.5)}\n",
      "0.878 (+/-0.027) for {'gpr__kernel': 1**2 * DotProduct(sigma_0=0.1)}\n",
      "0.879 (+/-0.027) for {'gpr__kernel': 1**2 * DotProduct(sigma_0=0.3)}\n",
      "0.878 (+/-0.027) for {'gpr__kernel': 1**2 * DotProduct(sigma_0=1)}\n",
      "0.878 (+/-0.027) for {'gpr__kernel': 1**2 * DotProduct(sigma_0=3)}\n",
      "0.878 (+/-0.027) for {'gpr__kernel': 1**2 * DotProduct(sigma_0=10)}\n",
      "0.609 (+/-0.715) for {'gpr__kernel': 1**2 * RationalQuadratic(alpha=1, length_scale=0.1)}\n",
      "0.641 (+/-0.274) for {'gpr__kernel': 1**2 * RationalQuadratic(alpha=1, length_scale=0.3)}\n",
      "0.853 (+/-0.073) for {'gpr__kernel': 1**2 * RationalQuadratic(alpha=1, length_scale=1)}\n",
      "0.520 (+/-0.854) for {'gpr__kernel': 1**2 * RationalQuadratic(alpha=1, length_scale=3)}\n",
      "0.703 (+/-0.706) for {'gpr__kernel': 1**2 * RationalQuadratic(alpha=1, length_scale=10)}\n",
      "0.895 (+/-0.036) for {'gpr__kernel': 1**2 * RationalQuadratic(alpha=3, length_scale=0.1)}\n",
      "0.355 (+/-0.868) for {'gpr__kernel': 1**2 * RationalQuadratic(alpha=3, length_scale=0.3)}\n",
      "0.827 (+/-0.250) for {'gpr__kernel': 1**2 * RationalQuadratic(alpha=3, length_scale=1)}\n",
      "0.878 (+/-0.054) for {'gpr__kernel': 1**2 * RationalQuadratic(alpha=3, length_scale=3)}\n",
      "0.866 (+/-0.060) for {'gpr__kernel': 1**2 * RationalQuadratic(alpha=3, length_scale=10)}\n",
      "0.354 (+/-0.867) for {'gpr__kernel': 1**2 * RationalQuadratic(alpha=10, length_scale=0.1)}\n",
      "0.501 (+/-0.831) for {'gpr__kernel': 1**2 * RationalQuadratic(alpha=10, length_scale=0.3)}\n",
      "0.620 (+/-0.584) for {'gpr__kernel': 1**2 * RationalQuadratic(alpha=10, length_scale=1)}\n",
      "0.687 (+/-0.688) for {'gpr__kernel': 1**2 * RationalQuadratic(alpha=10, length_scale=3)}\n",
      "0.865 (+/-0.055) for {'gpr__kernel': 1**2 * RationalQuadratic(alpha=10, length_scale=10)}\n",
      "-0.002 (+/-0.005) for {'gpr__kernel': 1**2 * WhiteKernel(noise_level=1)}\n",
      "-0.002 (+/-0.005) for {'gpr__kernel': 1**2 * WhiteKernel(noise_level=3)}\n",
      "-0.002 (+/-0.005) for {'gpr__kernel': 1**2 * WhiteKernel(noise_level=10)}\n",
      "\n"
     ]
    }
   ],
   "source": [
    "# Hyperparameter tuning\n",
    "\n",
    "param_grid = [\n",
    "  {'gpr__kernel': [C(1.0, (1e-3, 1e3)) * RBF(0.1), \n",
    "                   C(1.0, (1e-3, 1e3)) * RBF(0.3),\n",
    "                   C(1.0, (1e-3, 1e3)) * RBF(1.0),\n",
    "                   C(1.0, (1e-3, 1e3)) * RBF(3.0),\n",
    "                   C(1.0, (1e-3, 1e3)) * RBF(10.),\n",
    "                   C(1.0, (1e-3, 1e3)) * Matern(0.1, nu=0.5), \n",
    "                   C(1.0, (1e-3, 1e3)) * Matern(0.3, nu=0.5),\n",
    "                   C(1.0, (1e-3, 1e3)) * Matern(1.0, nu=0.5),\n",
    "                   C(1.0, (1e-3, 1e3)) * Matern(3.0, nu=0.5),\n",
    "                   C(1.0, (1e-3, 1e3)) * Matern(10., nu=0.5),\n",
    "                   C(1.0, (1e-3, 1e3)) * Matern(0.1, nu=1.5), \n",
    "                   C(1.0, (1e-3, 1e3)) * Matern(0.3, nu=1.5),\n",
    "                   C(1.0, (1e-3, 1e3)) * Matern(1.0, nu=1.5),\n",
    "                   C(1.0, (1e-3, 1e3)) * Matern(3.0, nu=1.5),\n",
    "                   C(1.0, (1e-3, 1e3)) * Matern(10., nu=1.5),\n",
    "                   C(1.0, (1e-3, 1e3)) * Matern(0.1, nu=2.5), \n",
    "                   C(1.0, (1e-3, 1e3)) * Matern(0.3, nu=2.5),\n",
    "                   C(1.0, (1e-3, 1e3)) * Matern(1.0, nu=2.5),\n",
    "                   C(1.0, (1e-3, 1e3)) * Matern(3.0, nu=2.5),\n",
    "                   C(1.0, (1e-3, 1e3)) * Matern(10., nu=2.5),\n",
    "                   C(1.0, (1e-3, 1e3)) * DotProduct(0.1), \n",
    "                   C(1.0, (1e-3, 1e3)) * DotProduct(0.3),\n",
    "                   C(1.0, (1e-3, 1e3)) * DotProduct(1.0),\n",
    "                   C(1.0, (1e-3, 1e3)) * DotProduct(3.0),\n",
    "                   C(1.0, (1e-3, 1e3)) * DotProduct(10.),\n",
    "                   C(1.0, (1e-3, 1e3)) * RationalQuadratic(alpha=1.0, length_scale=0.1), \n",
    "                   C(1.0, (1e-3, 1e3)) * RationalQuadratic(alpha=1.0, length_scale=0.3),\n",
    "                   C(1.0, (1e-3, 1e3)) * RationalQuadratic(alpha=1.0, length_scale=1.0),\n",
    "                   C(1.0, (1e-3, 1e3)) * RationalQuadratic(alpha=1.0, length_scale=3.0),\n",
    "                   C(1.0, (1e-3, 1e3)) * RationalQuadratic(alpha=1.0, length_scale=10.),\n",
    "                   C(1.0, (1e-3, 1e3)) * RationalQuadratic(alpha=3.0, length_scale=0.1), \n",
    "                   C(1.0, (1e-3, 1e3)) * RationalQuadratic(alpha=3.0, length_scale=0.3),\n",
    "                   C(1.0, (1e-3, 1e3)) * RationalQuadratic(alpha=3.0, length_scale=1.0),\n",
    "                   C(1.0, (1e-3, 1e3)) * RationalQuadratic(alpha=3.0, length_scale=3.0),\n",
    "                   C(1.0, (1e-3, 1e3)) * RationalQuadratic(alpha=3.0, length_scale=10.),\n",
    "                   C(1.0, (1e-3, 1e3)) * RationalQuadratic(alpha=10., length_scale=0.1), \n",
    "                   C(1.0, (1e-3, 1e3)) * RationalQuadratic(alpha=10., length_scale=0.3),\n",
    "                   C(1.0, (1e-3, 1e3)) * RationalQuadratic(alpha=10., length_scale=1.0),\n",
    "                   C(1.0, (1e-3, 1e3)) * RationalQuadratic(alpha=10., length_scale=3.0),\n",
    "                   C(1.0, (1e-3, 1e3)) * RationalQuadratic(alpha=10., length_scale=10.),\n",
    "                   C(1.0, (1e-3, 1e3)) * WhiteKernel(noise_level=1.0),\n",
    "                   C(1.0, (1e-3, 1e3)) * WhiteKernel(noise_level=3.0),\n",
    "                   C(1.0, (1e-3, 1e3)) * WhiteKernel(noise_level=10.)]}\n",
    "]\n",
    "\n",
    "gs = GridSearchCV(pipe, param_grid, cv=5,\n",
    "                   scoring='r2')\n",
    "gs.fit(np.concatenate((X_train, X_val)), np.concatenate((y_train, y_val)))\n",
    "\n",
    "print(\"Best parameters set found on development set:\")\n",
    "print()\n",
    "print(gs.best_params_)\n",
    "print()\n",
    "print(\"Grid scores on development set:\")\n",
    "print()\n",
    "means = gs.cv_results_['mean_test_score']\n",
    "stds = gs.cv_results_['std_test_score']\n",
    "for mean, std, params in zip(means, stds, gs.cv_results_['params']):\n",
    "    print(\"%0.3f (+/-%0.03f) for %r\" % (mean, std * 2, params))\n",
    "print()"
   ]
  },
  {
   "cell_type": "code",
   "execution_count": 102,
   "metadata": {},
   "outputs": [
    {
     "name": "stderr",
     "output_type": "stream",
     "text": [
      "D:\\ProgramData\\Anaconda3\\envs\\school\\lib\\site-packages\\sklearn\\gaussian_process\\kernels.py:1362: RuntimeWarning: invalid value encountered in true_divide\n",
      "  / np.sqrt(D.sum(2))[:, :, np.newaxis]\n"
     ]
    },
    {
     "name": "stdout",
     "output_type": "stream",
     "text": [
      "R2 score: 0.91\n",
      "Median margin of error: 0.0605245042314\n"
     ]
    }
   ],
   "source": [
    "#gpr = GaussianProcessRegressor(kernel=C(1.0, (1e-3, 1e3)) * RationalQuadratic(10.), \n",
    "#                               normalize_y=True, random_state=42)\n",
    "gpr = GaussianProcessRegressor(kernel=C(1.0, (1e-3, 1e3)) * Matern(3.0, nu=0.5), \n",
    "                               normalize_y=True, random_state=42)\n",
    "\n",
    "clf = Pipeline([('scaler', StandardScaler()), ('gpr', gpr)])\n",
    "clf.fit(X_train, y_train)\n",
    "\n",
    "y_val_pred = clf.predict(X_val)\n",
    "y_val_pred = y_val_pred.astype('int')\n",
    "r2_score(y_val, y_val_pred)\n",
    "print('R2 score:', np.round(r2_score(y_val, y_val_pred), 4))\n",
    "print('Median margin of error:', np.median(np.abs((y_val_pred - y_val) / y_val)))"
   ]
  },
  {
   "cell_type": "code",
   "execution_count": 93,
   "metadata": {},
   "outputs": [
    {
     "data": {
      "image/png": "[encoded data removed]",
      "text/plain": [
       "<matplotlib.figure.Figure at 0x8c17cd01d0>"
      ]
     },
     "metadata": {},
     "output_type": "display_data"
    }
   ],
   "source": [
    "summary.pred_vs_actual_plot(y_test_pred, y_test)"
   ]
  },
  {
   "cell_type": "markdown",
   "metadata": {},
   "source": [
    "### Geo demo"
   ]
  },
  {
   "cell_type": "code",
   "execution_count": 100,
   "metadata": {},
   "outputs": [
    {
     "name": "stderr",
     "output_type": "stream",
     "text": [
      "D:\\ProgramData\\Anaconda3\\envs\\school\\lib\\site-packages\\sklearn\\gaussian_process\\kernels.py:1362: RuntimeWarning: invalid value encountered in true_divide\n",
      "  / np.sqrt(D.sum(2))[:, :, np.newaxis]\n"
     ]
    },
    {
     "name": "stdout",
     "output_type": "stream",
     "text": [
      "R2 score: 0.888\n",
      "Median margin of error: 0.0574141398515\n"
     ]
    }
   ],
   "source": [
    "gpr = GaussianProcessRegressor(kernel=C(1.0, (1e-3, 1e3)) * Matern(3.0, nu=0.5), \n",
    "                               normalize_y=True, random_state=42)\n",
    "\n",
    "clf = Pipeline([('scaler', StandardScaler()), ('gpr', gpr)])\n",
    "clf.fit(X_train_geo, y_train_geo)\n",
    "\n",
    "y_val_geo_pred = clf.predict(X_val_geo)\n",
    "y_val_geo_pred = y_val_geo_pred.astype('int')\n",
    "print('R2 score:', np.round(r2_score(y_val_geo, y_val_geo_pred), 4))\n",
    "print('Median margin of error:', np.median(np.abs((y_val_geo_pred - y_val_geo) / y_val_geo)))"
   ]
  },
  {
   "cell_type": "code",
   "execution_count": 101,
   "metadata": {},
   "outputs": [
    {
     "data": {
      "image/png": "[encoded data removed]",
      "text/plain": [
       "<matplotlib.figure.Figure at 0x8c15882b70>"
      ]
     },
     "metadata": {},
     "output_type": "display_data"
    }
   ],
   "source": [
    "summary.pred_vs_actual_plot(y_test_pred, y_test)"
   ]
  },
  {
   "cell_type": "markdown",
   "metadata": {},
   "source": [
    "### Subset of features\n",
    "This section overwrites X_train, X_val, y_train, y_val"
   ]
  },
  {
   "cell_type": "code",
   "execution_count": 10,
   "metadata": {},
   "outputs": [
    {
     "name": "stdout",
     "output_type": "stream",
     "text": [
      "(1844, 10)\n",
      "(462, 10)\n",
      "(1844,)\n",
      "(462,)\n"
     ]
    }
   ],
   "source": [
    "# Split training set into train and validation set\n",
    "X_train, X_val, y_train, y_val = train_test_split(train_data[['OverallQual', 'GrLivArea', 'GarageCars', 'GarageArea', \n",
    "                                                              'TotalBsmtSF', '1stFlrSF', 'FullBath', 'TotRmsAbvGrd', \n",
    "                                                              'YearBuilt', 'YearRemodAdd']], \n",
    "                                                  train_data['SalePrice'],\n",
    "                                                  test_size=0.2, random_state=42)\n",
    "\n",
    "X_train = X_train.values\n",
    "X_val = X_val.values\n",
    "y_train = y_train.values\n",
    "y_val = y_val.values\n",
    "\n",
    "print(X_train.shape)\n",
    "print(X_val.shape)\n",
    "print(y_train.shape)\n",
    "print(y_val.shape)"
   ]
  },
  {
   "cell_type": "code",
   "execution_count": 11,
   "metadata": {},
   "outputs": [
    {
     "name": "stderr",
     "output_type": "stream",
     "text": [
      "D:\\ProgramData\\Anaconda3\\envs\\school\\lib\\site-packages\\sklearn\\gaussian_process\\kernels.py:1362: RuntimeWarning: invalid value encountered in true_divide\n",
      "  / np.sqrt(D.sum(2))[:, :, np.newaxis]\n"
     ]
    },
    {
     "name": "stdout",
     "output_type": "stream",
     "text": [
      "R2 score: 0.0239\n",
      "Median margin of error: 0.273579952336\n"
     ]
    }
   ],
   "source": [
    "gpr = GaussianProcessRegressor(kernel=C(1.0, (1e-3, 1e3)) * Matern(3.0, nu=0.5), \n",
    "                               normalize_y=True, random_state=42)\n",
    "\n",
    "clf = Pipeline([('scaler', StandardScaler()), ('gpr', gpr)])\n",
    "clf.fit(X_train, y_train)\n",
    "\n",
    "y_val_pred = clf.predict(X_val)\n",
    "y_val_pred = y_val_pred.astype('int')\n",
    "r2_score(y_val, y_val_pred)\n",
    "print('R2 score:', np.round(r2_score(y_val, y_val_pred), 4))\n",
    "print('Median margin of error:', np.median(np.abs((y_val_pred - y_val) / y_val)))"
   ]
  },
  {
   "cell_type": "code",
   "execution_count": 13,
   "metadata": {},
   "outputs": [
    {
     "data": {
      "image/png": "[encoded data removed]",
      "text/plain": [
       "<matplotlib.figure.Figure at 0xd5a9a3b518>"
      ]
     },
     "metadata": {},
     "output_type": "display_data"
    }
   ],
   "source": [
    "summary.pred_vs_actual_plot(y_val_pred, y_val)"
   ]
  },
  {
   "cell_type": "markdown",
   "metadata": {},
   "source": [
    "### Prediction exploration"
   ]
  },
  {
   "cell_type": "code",
   "execution_count": 95,
   "metadata": {},
   "outputs": [
    {
     "name": "stdout",
     "output_type": "stream",
     "text": [
      "Median margin of error: 0.0657155172414\n"
     ]
    }
   ],
   "source": [
    "pred_df = pd.DataFrame(data={'actual': y_test, 'predictions': y_test_pred}, index=test_data.index)\n",
    "pred_df['diff'] = pred_df['predictions'] - pred_df['actual']\n",
    "pred_df['percent_diff'] = pred_df['diff'] / pred_df['actual']\n",
    "\n",
    "pred_df['diff_bin'] = pd.cut(pred_df['percent_diff'], \n",
    "                             [-np.inf, -0.25, -0.10, -0.05, -0.01, 0.01, 0.05, 0.10, 0.25, np.inf])\n",
    "\n",
    "print('Median margin of error:', np.median(np.abs(pred_df['percent_diff'])))"
   ]
  },
  {
   "cell_type": "code",
   "execution_count": 97,
   "metadata": {},
   "outputs": [
    {
     "data": {
      "image/png": "[encoded data removed]",
      "text/plain": [
       "<matplotlib.figure.Figure at 0x8c195419e8>"
      ]
     },
     "metadata": {},
     "output_type": "display_data"
    }
   ],
   "source": [
    "temp = pred_df['diff_bin'].value_counts().sort_values()\n",
    "\n",
    "plt.figure(figsize=(12, 5))\n",
    "sns.barplot(temp.index, temp.values, color='b')\n",
    "plt.show()"
   ]
  },
  {
   "cell_type": "code",
   "execution_count": 98,
   "metadata": {},
   "outputs": [
    {
     "data": {
      "image/png": "[encoded data removed]",
      "text/plain": [
       "<matplotlib.figure.Figure at 0x8c17c069e8>"
      ]
     },
     "metadata": {},
     "output_type": "display_data"
    }
   ],
   "source": [
    "sns.distplot(pred_df['percent_diff'])\n",
    "plt.show()"
   ]
  },
  {
   "cell_type": "markdown",
   "metadata": {},
   "source": [
    "# Output results\n",
    "We want to output models and predictions on the test set with and without geodemos for reporting and comparison"
   ]
  },
  {
   "cell_type": "code",
   "execution_count": 10,
   "metadata": {},
   "outputs": [
    {
     "name": "stderr",
     "output_type": "stream",
     "text": [
      "D:\\ProgramData\\Anaconda3\\envs\\school\\lib\\site-packages\\sklearn\\gaussian_process\\kernels.py:1362: RuntimeWarning: invalid value encountered in true_divide\n",
      "  / np.sqrt(D.sum(2))[:, :, np.newaxis]\n",
      "D:\\ProgramData\\Anaconda3\\envs\\school\\lib\\site-packages\\sklearn\\gaussian_process\\gpr.py:457: UserWarning: fmin_l_bfgs_b terminated abnormally with the  state: {'grad': array([ -2.69327165e+15,   1.81281681e+13]), 'task': b'ABNORMAL_TERMINATION_IN_LNSRCH', 'funcalls': 33, 'nit': 2, 'warnflag': 2}\n",
      "  \" state: %s\" % convergence_dict)\n"
     ]
    },
    {
     "name": "stdout",
     "output_type": "stream",
     "text": [
      "R2 score: 0.918\n",
      "Median margin of error: 0.0584145378434\n"
     ]
    },
    {
     "data": {
      "text/plain": [
       "['../models/model_gaussian_process.pkl']"
      ]
     },
     "execution_count": 10,
     "metadata": {},
     "output_type": "execute_result"
    }
   ],
   "source": [
    "# Test data\n",
    "X_test = test_data.loc[:, test_data.columns != 'SalePrice']\n",
    "y_test = test_data['SalePrice']\n",
    "\n",
    "# Train final model\n",
    "gpr = GaussianProcessRegressor(kernel=C(1.0, (1e-3, 1e3)) * Matern(3.0, nu=0.5), \n",
    "                               normalize_y=True, random_state=42)\n",
    "\n",
    "clf = Pipeline([('scaler', StandardScaler()), ('gpr', gpr)])\n",
    "clf.fit(np.concatenate((X_train, X_val)), np.concatenate((y_train, y_val)))\n",
    "pred = clf.predict(X_test)\n",
    "print('R2 score:', np.round(r2_score(y_test, pred), 4))\n",
    "print('Median margin of error:', np.median(np.abs((pred - y_test) / y_test)))\n",
    "\n",
    "# Output predictions\n",
    "pred_df = pd.DataFrame(data={'predictions': pred}, index=test_data.index)\n",
    "pred_df.to_csv('../data/output/pred_gaussian_process.csv')\n",
    "\n",
    "# Pickle final model\n",
    "joblib.dump(clf, '../models/model_gaussian_process.pkl')# Output results"
   ]
  },
  {
   "cell_type": "code",
   "execution_count": 12,
   "metadata": {},
   "outputs": [
    {
     "name": "stderr",
     "output_type": "stream",
     "text": [
      "D:\\ProgramData\\Anaconda3\\envs\\school\\lib\\site-packages\\sklearn\\gaussian_process\\kernels.py:1362: RuntimeWarning: invalid value encountered in true_divide\n",
      "  / np.sqrt(D.sum(2))[:, :, np.newaxis]\n",
      "D:\\ProgramData\\Anaconda3\\envs\\school\\lib\\site-packages\\sklearn\\gaussian_process\\gpr.py:457: UserWarning: fmin_l_bfgs_b terminated abnormally with the  state: {'grad': array([ -2.21060168e+15,   1.33544656e+13]), 'task': b'ABNORMAL_TERMINATION_IN_LNSRCH', 'funcalls': 22, 'nit': 1, 'warnflag': 2}\n",
      "  \" state: %s\" % convergence_dict)\n"
     ]
    },
    {
     "name": "stdout",
     "output_type": "stream",
     "text": [
      "R2 score: 0.9238\n",
      "Median margin of error: 0.0524115981469\n"
     ]
    },
    {
     "data": {
      "text/plain": [
       "['../models/model_gaussian_process_geo.pkl']"
      ]
     },
     "execution_count": 12,
     "metadata": {},
     "output_type": "execute_result"
    }
   ],
   "source": [
    "# Test data with geodemos\n",
    "X_test_geo = test_gdata.loc[:, test_gdata.columns != 'SalePrice']\n",
    "y_test_geo = test_gdata['SalePrice']\n",
    "\n",
    "# Train final model\n",
    "gpr = GaussianProcessRegressor(kernel=C(1.0, (1e-3, 1e3)) * Matern(3.0, nu=0.5), \n",
    "                               normalize_y=True, random_state=42)\n",
    "\n",
    "clf = Pipeline([('scaler', StandardScaler()), ('gpr', gpr)])\n",
    "clf.fit(np.concatenate((X_train_geo, X_val_geo)), np.concatenate((y_train_geo, y_val_geo)))\n",
    "pred = clf.predict(X_test_geo)\n",
    "print('R2 score:', np.round(r2_score(y_test_geo, pred), 4))\n",
    "print('Median margin of error:', np.median(np.abs((pred - y_test_geo) / y_test_geo)))\n",
    "\n",
    "# Output predictions\n",
    "pred_df = pd.DataFrame(data={'predictions': pred}, index=test_gdata.index)\n",
    "pred_df.to_csv('../data/output/pred_gaussian_process_geo.csv')\n",
    "\n",
    "# Pickle final model\n",
    "joblib.dump(clf, '../models/model_gaussian_process_geo.pkl')"
   ]
  }
 ],
 "metadata": {
  "kernelspec": {
   "display_name": "Python 3",
   "language": "python",
   "name": "python3"
  },
  "language_info": {
   "codemirror_mode": {
    "name": "ipython",
    "version": 3
   },
   "file_extension": ".py",
   "mimetype": "text/x-python",
   "name": "python",
   "nbconvert_exporter": "python",
   "pygments_lexer": "ipython3",
   "version": "3.6.3"
  }
 },
 "nbformat": 4,
 "nbformat_minor": 2
}

{
 "cells": [
  {
   "cell_type": "code",
   "execution_count": 28,
   "metadata": {
    "collapsed": true
   },
   "outputs": [],
   "source": [
    "import sys\n",
    "sys.path.append('data_preprocessing')\n",
    "import summary\n",
    "import outliers\n",
    "import normalize\n",
    "import learning_helpers\n",
    "\n",
    "from sklearn import linear_model\n",
    "from sklearn.model_selection import train_test_split\n",
    "from sklearn.metrics import r2_score\n",
    "import pandas as pd\n",
    "from matplotlib import pyplot as plt\n",
    "import numpy as np"
   ]
  },
  {
   "cell_type": "markdown",
   "metadata": {},
   "source": [
    "# Get Data"
   ]
  },
  {
   "cell_type": "code",
   "execution_count": 2,
   "metadata": {
    "collapsed": true
   },
   "outputs": [],
   "source": [
    "train_data = pd.read_csv('../data/input/ames_train.csv')\n",
    "test_data = pd.read_csv('../data/input/ames_test.csv')\n",
    "\n",
    "geo_train_data = pd.read_csv('../data/input/ames_geodemo_train.csv')\n",
    "geo_test_data = pd.read_csv('../data/input/ames_geodemo_test.csv')"
   ]
  },
  {
   "cell_type": "markdown",
   "metadata": {},
   "source": [
    "# Normalize and remove outliers"
   ]
  },
  {
   "cell_type": "code",
   "execution_count": 3,
   "metadata": {
    "collapsed": true
   },
   "outputs": [],
   "source": [
    "train_data = normalize.fill_in_missing_values(train_data)\n",
    "train_data = outliers.remove_outliers(train_data)\n",
    "train_data = normalize.normalize(train_data)\n",
    "\n",
    "test_data = normalize.fill_in_missing_values(test_data)\n",
    "test_data = outliers.remove_outliers(test_data)\n",
    "test_data = normalize.normalize(test_data)\n",
    "\n",
    "geo_train_data = normalize.fill_in_missing_values(geo_train_data)\n",
    "geo_train_data = outliers.remove_outliers(geo_train_data)\n",
    "geo_train_data = normalize.normalize(geo_train_data)\n",
    "\n",
    "geo_test_data = normalize.fill_in_missing_values(geo_test_data)\n",
    "geo_test_data = outliers.remove_outliers(geo_test_data)\n",
    "geo_test_data = normalize.normalize(geo_test_data)"
   ]
  },
  {
   "cell_type": "markdown",
   "metadata": {},
   "source": [
    "# Add extra set for validation to get test, training, validation sets"
   ]
  },
  {
   "cell_type": "code",
   "execution_count": 4,
   "metadata": {},
   "outputs": [],
   "source": [
    "X_train, X_val, y_train, y_val = train_test_split(train_data.loc[:, train_data.columns != 'log_SalePrice'], \n",
    "                                                  train_data['log_SalePrice'],\n",
    "                                                  test_size=0.2, random_state=42)\n",
    "X_test = train_data.drop('log_SalePrice', 1)\n",
    "y_test = train_data['log_SalePrice']\n",
    "\n",
    "\n",
    "# Split geodemo training set into train and validation set\n",
    "X_geo_train, X_geo_val, y_geo_train, y_geo_val = train_test_split(geo_train_data.loc[:, geo_train_data.columns != 'log_SalePrice'], \n",
    "                                                                  geo_train_data['log_SalePrice'],\n",
    "                                                                  test_size=0.2, random_state=42)\n",
    "X_geo_test = geo_train_data.drop('log_SalePrice', 1)\n",
    "y_geo_test = geo_train_data['log_SalePrice']"
   ]
  },
  {
   "cell_type": "markdown",
   "metadata": {},
   "source": [
    "# Not all features may be in test and train at this point due to one hot encoding, \n",
    "# so check columns in one and not the other and remove"
   ]
  },
  {
   "cell_type": "code",
   "execution_count": 5,
   "metadata": {},
   "outputs": [],
   "source": [
    "train_cols = list(X_train)\n",
    "test_cols = list(X_test)\n",
    "val_cols = list(X_val)\n",
    "for col in train_cols:\n",
    "    if (col not in  test_cols or col not in val_cols):\n",
    "        X_train = X_train.drop(col, 1)\n",
    "        \n",
    "for col in test_cols:\n",
    "    if (col not in  train_cols or col not in val_cols):\n",
    "        X_test = X_test.drop(col, 1)\n",
    "\n",
    "for col in val_cols:\n",
    "    if(col not in test_cols or col not in train_cols):\n",
    "        X_val = X_val.drop(col, 1)\n",
    "        \n",
    "        \n",
    "geo_train_cols = list(X_geo_train)\n",
    "geo_test_cols = list(X_geo_test)\n",
    "geo_val_cols = list(X_geo_val)\n",
    "for col in geo_train_cols:\n",
    "    if (col not in  geo_test_cols or col not in geo_val_cols):\n",
    "        X_geo_train = X_geo_train.drop(col, 1)\n",
    "        \n",
    "for col in geo_test_cols:\n",
    "    if (col not in  geo_train_cols or col not in geo_val_cols):\n",
    "        X_geo_test = X_geo_test.drop(col, 1)\n",
    "        \n",
    "for col in geo_val_cols:\n",
    "    if(col not in geo_test_cols or col not in geo_train_cols):\n",
    "        X_geo_val = X_geo_val.drop(col, 1)\n"
   ]
  },
  {
   "cell_type": "markdown",
   "metadata": {},
   "source": [
    "# Actually do learning"
   ]
  },
  {
   "cell_type": "markdown",
   "metadata": {},
   "source": [
    "## Linear Regression"
   ]
  },
  {
   "cell_type": "code",
   "execution_count": 8,
   "metadata": {
    "scrolled": true
   },
   "outputs": [
    {
     "name": "stdout",
     "output_type": "stream",
     "text": [
      "r2: 0.9431087890717987\n",
      "r2 on test: 0.9322946640186407\n"
     ]
    }
   ],
   "source": [
    "lr = linear_model.LinearRegression()\n",
    "lr, features_lr, r2 = learning_helpers.greedy_feature_selection(lr, X_train, y_train, X_val, y_val, 0.00001)\n",
    "print('r2 on validation: {0}'.format(r2))\n",
    "\n",
    "y_pred = lr.predict(X_test[features_lr])\n",
    "print('r2 on test: {0}'.format(r2_score(y_test, y_pred)))"
   ]
  },
  {
   "cell_type": "code",
   "execution_count": 10,
   "metadata": {},
   "outputs": [
    {
     "name": "stdout",
     "output_type": "stream",
     "text": [
      "r2 on validation: 0.9456753036178549\n",
      "r2 on test: 0.9332493417065817\n"
     ]
    }
   ],
   "source": [
    "lr_geo = linear_model.LinearRegression()\n",
    "lr_geo, features_lr_geo, r2 = learning_helpers.greedy_feature_selection(lr, X_geo_train, y_geo_train, X_geo_val, y_geo_val, 0.00001)\n",
    "print('r2 on validation: {0}'.format(r2))\n",
    "\n",
    "y_pred = lr_geo.predict(X_geo_test[features_lr_geo])\n",
    "print('r2 on test: {0}'.format(r2_score(y_geo_test, y_pred)))"
   ]
  },
  {
   "cell_type": "markdown",
   "metadata": {},
   "source": [
    "## Ridge"
   ]
  },
  {
   "cell_type": "code",
   "execution_count": 11,
   "metadata": {},
   "outputs": [
    {
     "name": "stdout",
     "output_type": "stream",
     "text": [
      "r2: 0.9443376481621151\n",
      "r2 on test: 0.9337470143419374\n"
     ]
    }
   ],
   "source": [
    "ridge_clf = linear_model.Ridge(alpha=1.0)\n",
    "ridg_clf, features_ridge, r2 = learning_helpers.greedy_feature_selection(ridge_clf, X_train, y_train, X_val, y_val, 0.00001)\n",
    "print('r2: {0}'.format(r2))\n",
    "\n",
    "y_pred = ridge_clf.predict(X_test[features_ridge])\n",
    "print('r2 on test: {0}'.format(r2_score(y_test, y_pred)))"
   ]
  },
  {
   "cell_type": "code",
   "execution_count": 21,
   "metadata": {},
   "outputs": [
    {
     "name": "stdout",
     "output_type": "stream",
     "text": [
      "r2: 0.9462453256385719\n",
      "r2 on test: 0.9354890135737005\n"
     ]
    }
   ],
   "source": [
    "ridge_clf_geo = linear_model.Ridge(alpha=1.0)\n",
    "ridg_clf_geo, features_ridge_geo, r2 = learning_helpers.greedy_feature_selection(ridge_clf_geo, X_geo_train, y_geo_train, X_geo_val, y_geo_val, 0.00001)\n",
    "print('r2: {0}'.format(r2))\n",
    "\n",
    "y_pred = ridge_clf_geo.predict(X_geo_test[features_ridge_geo])\n",
    "print('r2 on test: {0}'.format(r2_score(y_geo_test, y_pred)))"
   ]
  },
  {
   "cell_type": "markdown",
   "metadata": {},
   "source": [
    "## Lasso\n",
    "\n",
    "#todo: actually run this and see values.  Takes a really long time..."
   ]
  },
  {
   "cell_type": "code",
   "execution_count": 18,
   "metadata": {},
   "outputs": [
    {
     "name": "stdout",
     "output_type": "stream",
     "text": [
      "r2 on validation: 0.8998700992861939\n",
      "r2 on test: 0.8942947062977008\n"
     ]
    }
   ],
   "source": [
    "lasso = linear_model.LassoCV(alphas = [1, 0.1, 0.001, 0.0005],max_iter=100000)\n",
    "lasso, features_lasso, r2 = learning_helpers.greedy_feature_selection(lasso, X_train, y_train, X_val, y_val, 0.00001)\n",
    "print('r2 on validation: {0}'.format(r2))\n",
    "\n",
    "y_pred = lasso.predict(X_test[features_lasso])\n",
    "print('r2 on test: {0}'.format(r2_score(y_test, y_pred)))"
   ]
  },
  {
   "cell_type": "code",
   "execution_count": 19,
   "metadata": {},
   "outputs": [
    {
     "name": "stdout",
     "output_type": "stream",
     "text": [
      "r2 on validation: 0.8998700992861939\n",
      "r2 on test: 0.8942947062977008\n"
     ]
    }
   ],
   "source": [
    "lasso_geo = linear_model.LassoCV(alphas = [1, 0.1, 0.001, 0.0005],max_iter=100000)\n",
    "lasso_geo, features_lasso_geo, r2 = learning_helpers.greedy_feature_selection(lasso_geo, X_geo_train, y_geo_train, X_geo_val, y_geo_val, 0.00001)\n",
    "print('r2 on validation: {0}'.format(r2))\n",
    "\n",
    "y_pred = lasso_geo.predict(X_test[features_lasso_geo])\n",
    "print('r2 on test: {0}'.format(r2_score(y_test, y_pred)))"
   ]
  },
  {
   "cell_type": "markdown",
   "metadata": {
    "collapsed": true
   },
   "source": [
    "## Now plot 'Best'  In this case ridge on the geo data set just squeaked out a victory, so plot it's trophy"
   ]
  },
  {
   "cell_type": "code",
   "execution_count": 34,
   "metadata": {},
   "outputs": [
    {
     "data": {
      "image/png": "[encoded data removed]",
      "text/plain": [
       "<matplotlib.figure.Figure at 0x1fc735f77f0>"
      ]
     },
     "metadata": {},
     "output_type": "display_data"
    },
    {
     "name": "stdout",
     "output_type": "stream",
     "text": [
      "Final r2 score: 0.9433757223523724\n",
      "Median margin of error: 0.05099098917781654\n"
     ]
    }
   ],
   "source": [
    "y_pred = ridge_clf_geo.predict(X_geo_test[features_ridge_geo])\n",
    "y_test_norm = np.exp(y_test)\n",
    "y_pred_norm = np.exp(y_pred)\n",
    "summary.pred_vs_actual_plot(y_pred_norm, y_test_norm)\n",
    "print('Final r2 score: {0}'.format(r2_score(y_test_norm, y_pred_norm)))\n",
    "median_margin_of_error = np.median(np.abs((y_pred_norm - y_test_norm) / y_test_norm))\n",
    "print('Median margin of error: {0}'.format(median_margin_of_error))"
   ]
  },
  {
   "cell_type": "code",
   "execution_count": null,
   "metadata": {
    "collapsed": true
   },
   "outputs": [],
   "source": []
  },
  {
   "cell_type": "code",
   "execution_count": null,
   "metadata": {
    "collapsed": true
   },
   "outputs": [],
   "source": []
  }
 ],
 "metadata": {
  "kernelspec": {
   "display_name": "Python 3",
   "language": "python",
   "name": "python3"
  },
  "language_info": {
   "codemirror_mode": {
    "name": "ipython",
    "version": 3
   },
   "file_extension": ".py",
   "mimetype": "text/x-python",
   "name": "python",
   "nbconvert_exporter": "python",
   "pygments_lexer": "ipython3",
   "version": "3.6.3"
  }
 },
 "nbformat": 4,
 "nbformat_minor": 2
}

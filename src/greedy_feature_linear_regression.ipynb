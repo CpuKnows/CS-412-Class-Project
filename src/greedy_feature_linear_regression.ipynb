{
 "cells": [
  {
   "cell_type": "code",
   "execution_count": 74,
   "metadata": {
    "collapsed": true
   },
   "outputs": [],
   "source": [
    "import sys\n",
    "sys.path.append('data_preprocessing')\n",
    "import summary\n",
    "import outliers\n",
    "import normalize\n",
    "import learning_helpers\n",
    "\n",
    "from sklearn import linear_model\n",
    "from sklearn.model_selection import train_test_split\n",
    "from sklearn.metrics import r2_score, mean_squared_error\n",
    "import pandas as pd\n",
    "from matplotlib import pyplot as plt\n",
    "import numpy as np\n",
    "import csv\n",
    "from math import sqrt"
   ]
  },
  {
   "cell_type": "markdown",
   "metadata": {},
   "source": [
    "# Get Data"
   ]
  },
  {
   "cell_type": "code",
   "execution_count": 9,
   "metadata": {
    "collapsed": true
   },
   "outputs": [],
   "source": [
    "train_data = pd.read_csv('../data/input/ames_train.csv')\n",
    "test_data = pd.read_csv('../data/input/ames_test.csv')\n",
    "\n",
    "geo_train_data = pd.read_csv('../data/input/ames_geodemo_train.csv')\n",
    "geo_test_data = pd.read_csv('../data/input/ames_geodemo_test.csv')"
   ]
  },
  {
   "cell_type": "markdown",
   "metadata": {},
   "source": [
    "# Normalize and remove outliers"
   ]
  },
  {
   "cell_type": "code",
   "execution_count": 10,
   "metadata": {
    "collapsed": true
   },
   "outputs": [],
   "source": [
    "train_data = normalize.fill_in_missing_values(train_data)\n",
    "train_data = outliers.remove_outliers(train_data)\n",
    "train_data = normalize.normalize(train_data)\n",
    "\n",
    "test_data = normalize.fill_in_missing_values(test_data)\n",
    "test_data = outliers.remove_outliers(test_data)\n",
    "test_data = normalize.normalize(test_data)\n",
    "\n",
    "geo_train_data = normalize.fill_in_missing_values(geo_train_data)\n",
    "geo_train_data = outliers.remove_outliers(geo_train_data)\n",
    "geo_train_data = normalize.normalize(geo_train_data)\n",
    "\n",
    "geo_test_data = normalize.fill_in_missing_values(geo_test_data)\n",
    "geo_test_data = outliers.remove_outliers(geo_test_data)\n",
    "geo_test_data = normalize.normalize(geo_test_data)"
   ]
  },
  {
   "cell_type": "markdown",
   "metadata": {},
   "source": [
    "# Add extra set for validation to get test, training, validation sets"
   ]
  },
  {
   "cell_type": "code",
   "execution_count": 11,
   "metadata": {},
   "outputs": [],
   "source": [
    "X_train, X_val, y_train, y_val = train_test_split(train_data.loc[:, train_data.columns != 'log_SalePrice'], \n",
    "                                                  train_data['log_SalePrice'],\n",
    "                                                  test_size=0.2, random_state=42)\n",
    "X_test = test_data.drop('log_SalePrice', 1)\n",
    "y_test = test_data['log_SalePrice']\n",
    "\n",
    "\n",
    "# Split geodemo training set into train and validation set\n",
    "X_geo_train, X_geo_val, y_geo_train, y_geo_val = train_test_split(geo_train_data.loc[:, geo_train_data.columns != 'log_SalePrice'], \n",
    "                                                                  geo_train_data['log_SalePrice'],\n",
    "                                                                  test_size=0.2, random_state=42)\n",
    "X_geo_test = geo_test_data.drop('log_SalePrice', 1)\n",
    "y_geo_test = geo_test_data['log_SalePrice']"
   ]
  },
  {
   "cell_type": "markdown",
   "metadata": {},
   "source": [
    "# Not all features may be in test and train at this point due to one hot encoding, \n",
    "# so check columns in one and not the other and remove"
   ]
  },
  {
   "cell_type": "code",
   "execution_count": 13,
   "metadata": {},
   "outputs": [
    {
     "name": "stdout",
     "output_type": "stream",
     "text": [
      "(574, 278)\n",
      "(1844, 278)\n",
      "(462, 278)\n",
      "(574, 324)\n",
      "(1844, 324)\n",
      "(462, 324)\n"
     ]
    }
   ],
   "source": [
    "train_cols = list(X_train)\n",
    "test_cols = list(X_test)\n",
    "val_cols = list(X_val)\n",
    "for col in train_cols:\n",
    "    if (col not in  test_cols or col not in val_cols):\n",
    "        X_train = X_train.drop(col, 1)\n",
    "        \n",
    "for col in test_cols:\n",
    "    if (col not in  train_cols or col not in val_cols):\n",
    "        X_test = X_test.drop(col, 1)\n",
    "\n",
    "for col in val_cols:\n",
    "    if(col not in test_cols or col not in train_cols):\n",
    "        X_val = X_val.drop(col, 1)\n",
    "        \n",
    "        \n",
    "geo_train_cols = list(X_geo_train)\n",
    "geo_test_cols = list(X_geo_test)\n",
    "geo_val_cols = list(X_geo_val)\n",
    "\n",
    "for col in geo_train_cols:\n",
    "    if (col not in  geo_test_cols or col not in geo_val_cols):\n",
    "        X_geo_train = X_geo_train.drop(col, 1)\n",
    "        \n",
    "for col in geo_test_cols:\n",
    "    if (col not in  geo_train_cols or col not in geo_val_cols):\n",
    "        X_geo_test = X_geo_test.drop(col, 1)\n",
    "        \n",
    "for col in geo_val_cols:\n",
    "    if(col not in geo_test_cols or col not in geo_train_cols):\n",
    "        X_geo_val = X_geo_val.drop(col, 1)\n",
    "\n",
    "        \n",
    "print(X_test.shape)\n",
    "print(X_train.shape)\n",
    "print(X_val.shape)\n",
    "\n",
    "print(X_geo_test.shape)\n",
    "print(X_geo_train.shape)\n",
    "print(X_geo_val.shape)"
   ]
  },
  {
   "cell_type": "markdown",
   "metadata": {},
   "source": [
    "# Actually do learning"
   ]
  },
  {
   "cell_type": "markdown",
   "metadata": {},
   "source": [
    "## Linear Regression"
   ]
  },
  {
   "cell_type": "code",
   "execution_count": 8,
   "metadata": {
    "scrolled": true
   },
   "outputs": [
    {
     "name": "stdout",
     "output_type": "stream",
     "text": [
      "r2 on validation: 0.9421091970186167\n",
      "r2 on test: 0.9327360819532037\n"
     ]
    }
   ],
   "source": [
    "lr = linear_model.LinearRegression()\n",
    "lr, features_lr, r2 = learning_helpers.greedy_feature_selection(lr, X_train, y_train, X_val, y_val, 0)\n",
    "print('r2 on validation: {0}'.format(r2))\n",
    "\n",
    "y_pred = lr.predict(X_test[features_lr])\n",
    "print('r2 on test: {0}'.format(r2_score(y_test, y_pred)))"
   ]
  },
  {
   "cell_type": "code",
   "execution_count": 16,
   "metadata": {},
   "outputs": [
    {
     "name": "stdout",
     "output_type": "stream",
     "text": [
      "r2 on validation: 0.9462880128745265\n",
      "r2 on test: 0.9311877744032135\n"
     ]
    }
   ],
   "source": [
    "lr_geo = linear_model.LinearRegression()\n",
    "lr_geo, features_lr_geo, r2 = learning_helpers.greedy_feature_selection(lr, X_geo_train, y_geo_train, X_geo_val, y_geo_val, 0)\n",
    "print('r2 on validation: {0}'.format(r2))\n",
    "\n",
    "y_pred = lr_geo.predict(X_geo_test[features_lr_geo])\n",
    "print('r2 on test: {0}'.format(r2_score(y_geo_test, y_pred)))"
   ]
  },
  {
   "cell_type": "markdown",
   "metadata": {},
   "source": [
    "## Ridge"
   ]
  },
  {
   "cell_type": "code",
   "execution_count": 54,
   "metadata": {},
   "outputs": [
    {
     "name": "stdout",
     "output_type": "stream",
     "text": [
      "r2: 0.943766427502076\n",
      "r2 on test: 0.9303763390771499\n"
     ]
    }
   ],
   "source": [
    "ridge_clf = linear_model.Ridge(alpha=1.0)\n",
    "ridg_clf, features_ridge, r2 = learning_helpers.greedy_feature_selection(ridge_clf, X_train, y_train, X_val, y_val,0)\n",
    "print('r2: {0}'.format(r2))\n",
    "\n",
    "y_pred = ridge_clf.predict(X_test[features_ridge])\n",
    "print('r2 on test: {0}'.format(r2_score(y_test, y_pred)))"
   ]
  },
  {
   "cell_type": "code",
   "execution_count": 55,
   "metadata": {},
   "outputs": [
    {
     "name": "stdout",
     "output_type": "stream",
     "text": [
      "r2: 0.9445688464065529\n",
      "r2 on test: 0.9330832297637454\n"
     ]
    }
   ],
   "source": [
    "ridge_clf_geo = linear_model.Ridge(alpha=1.0)\n",
    "ridg_clf_geo, features_ridge_geo, r2 = learning_helpers.greedy_feature_selection(ridge_clf_geo, X_geo_train, y_geo_train, X_geo_val, y_geo_val,0)\n",
    "print('r2: {0}'.format(r2))\n",
    "\n",
    "y_pred = ridge_clf_geo.predict(X_geo_test[features_ridge_geo])\n",
    "print('r2 on test: {0}'.format(r2_score(y_geo_test, y_pred)))"
   ]
  },
  {
   "cell_type": "markdown",
   "metadata": {},
   "source": [
    "## Lasso\n",
    "\n",
    "#todo: actually run this and see values.  Takes a really long time..."
   ]
  },
  {
   "cell_type": "code",
   "execution_count": null,
   "metadata": {},
   "outputs": [],
   "source": [
    "lasso = linear_model.LassoCV(alphas = [1, 0.1, 0.001, 0.0005],max_iter=100000)\n",
    "lasso, features_lasso, r2 = learning_helpers.greedy_feature_selection(lasso, X_train, y_train, X_val, y_val, 0.00001)\n",
    "print('r2 on validation: {0}'.format(r2))\n",
    "\n",
    "y_pred = lasso.predict(X_test[features_lasso])\n",
    "print('r2 on test: {0}'.format(r2_score(y_test, y_pred)))"
   ]
  },
  {
   "cell_type": "code",
   "execution_count": null,
   "metadata": {},
   "outputs": [],
   "source": [
    "lasso_geo = linear_model.LassoCV(alphas = [1, 0.1, 0.001, 0.0005],max_iter=100000)\n",
    "lasso_geo, features_lasso_geo, r2 = learning_helpers.greedy_feature_selection(lasso_geo, X_geo_train, y_geo_train, X_geo_val, y_geo_val, 0.00001)\n",
    "print('r2 on validation: {0}'.format(r2))\n",
    "\n",
    "y_pred = lasso_geo.predict(X_test[features_lasso_geo])\n",
    "print('r2 on test: {0}'.format(r2_score(y_test, y_pred)))"
   ]
  },
  {
   "cell_type": "code",
   "execution_count": null,
   "metadata": {},
   "outputs": [],
   "source": [
    "print('features_lr = {0}'.format(features_lr))\n",
    "print()\n",
    "print('features_lr_geo = {0}'.format(features_lr_geo))\n",
    "print()\n",
    "print('features_ridge = {0}'.format(features_ridge))\n",
    "print()\n",
    "print('featurs_ridge_geo = {0}'.format(features_ridge_geo))"
   ]
  },
  {
   "cell_type": "markdown",
   "metadata": {
    "collapsed": true
   },
   "source": [
    "## Now plot 'Best'  In this case ridge on the geo data set just squeaked out a victory, so plot it's trophy"
   ]
  },
  {
   "cell_type": "code",
   "execution_count": null,
   "metadata": {},
   "outputs": [],
   "source": [
    "y_pred = ridge_clf_geo.predict(X_geo_test[features_ridge_geo])\n",
    "y_test_norm = np.exp(y_test)\n",
    "y_pred_norm = np.exp(y_pred)\n",
    "summary.pred_vs_actual_plot(y_pred_norm, y_test_norm)\n",
    "print('Final r2 score: {0}'.format(r2_score(y_test_norm, y_pred_norm)))\n",
    "median_margin_of_error = np.median(np.abs((y_pred_norm - y_test_norm) / y_test_norm))\n",
    "print('Median margin of error: {0}'.format(median_margin_of_error))\n",
    "rmse = sqrt(mean_squared_error(y_test_norm, y_pred_norm))\n",
    "print('RMSE is: {0}'.format(rmse))"
   ]
  },
  {
   "cell_type": "markdown",
   "metadata": {
    "collapsed": true
   },
   "source": [
    "# Features v accuracy  plot"
   ]
  },
  {
   "cell_type": "code",
   "execution_count": 25,
   "metadata": {},
   "outputs": [
    {
     "name": "stdout",
     "output_type": "stream",
     "text": [
      "0.661993584878--0.684349788381\n",
      "0.774290454586--0.770426879904\n",
      "0.830526052004--0.810861810267\n",
      "0.855926060309--0.842438212413\n",
      "0.877806028493--0.858907983208\n",
      "0.889368336539--0.878160892105\n",
      "0.89475935329--0.881784155512\n",
      "0.900172667698--0.892953713682\n",
      "0.9057682639--0.895739546846\n",
      "0.910858697869--0.902115056867\n",
      "0.914677317094--0.904009707842\n",
      "0.916788376266--0.906658297028\n",
      "0.918811992394--0.909344576966\n",
      "0.920491994926--0.910613778502\n",
      "0.922176490335--0.910993690123\n",
      "0.923841939835--0.912168914174\n",
      "0.925253104356--0.913132894939\n",
      "0.926260270406--0.914130220576\n",
      "0.927133580697--0.914346846281\n",
      "0.928165693417--0.915099519475\n",
      "0.929259841453--0.915864219943\n",
      "0.929909490161--0.916212635044\n",
      "0.930535278403--0.916557767725\n",
      "0.931047839675--0.916651632913\n",
      "0.932565611659--0.918379699548\n",
      "0.933230577561--0.918760044034\n",
      "0.933897027529--0.919739986392\n",
      "0.934525722505--0.921459981104\n",
      "0.935057258682--0.921535115378\n",
      "0.935547337768--0.921756613243\n",
      "0.93604306089--0.923283667755\n",
      "0.936524306667--0.923407858862\n",
      "0.936926713291--0.923970764655\n",
      "0.937303273512--0.92510412419\n",
      "0.937770240231--0.925515561401\n",
      "0.938106381575--0.925606878649\n",
      "0.938420415557--0.925669715656\n",
      "0.938729083436--0.925917639983\n",
      "0.93898829589--0.925972580827\n",
      "0.939216736263--0.926116735844\n",
      "0.939473314988--0.92639868739\n",
      "0.93966988097--0.926549611841\n",
      "0.93986151387--0.926581070113\n",
      "0.940058785494--0.927149618398\n",
      "0.940388083048--0.927620781322\n",
      "0.940597902352--0.927663025027\n",
      "0.940816040377--0.927758575529\n",
      "0.941012489047--0.927830206231\n",
      "0.941169941571--0.928000783211\n",
      "0.941308369674--0.928345106495\n",
      "0.941450218989--0.928371629105\n",
      "0.941579102584--0.928492138803\n",
      "0.941697917028--0.928515570493\n",
      "0.94181959935--0.928528484817\n",
      "0.94198382184--0.928636721009\n",
      "0.942109197019--0.928637335145\n",
      "0.942289761925--0.929009448397\n",
      "0.942426323649--0.929050099319\n",
      "0.942557279543--0.929200432337\n",
      "0.942669694854--0.929222113441\n",
      "0.942780933742--0.929488892046\n",
      "0.942867995168--0.929512730102\n",
      "0.94295885459--0.929524422554\n",
      "0.943047973106--0.929562708591\n",
      "0.943132295723--0.929569095971\n",
      "0.943203004098--0.929891875818\n",
      "0.943273191129--0.929917282694\n",
      "0.943346637809--0.929938404401\n",
      "0.943417814082--0.929956884385\n",
      "0.943471086427--0.929984547258\n",
      "0.943522427048--0.930050432059\n",
      "0.94357531424--0.930077154559\n",
      "0.943625133335--0.930083941612\n",
      "0.943676863678--0.930090750719\n",
      "0.943721822717--0.930116265513\n",
      "0.943765689496--0.930271207732\n",
      "0.943815883597--0.93033326995\n",
      "0.943864947316--0.930345964014\n",
      "0.943904877602--0.930429371974\n",
      "0.94395267885--0.930463073263\n",
      "0.943985317418--0.930569953074\n",
      "0.944017183152--0.930577692373\n",
      "0.944043507551--0.93058179979\n",
      "0.944069812096--0.930606001164\n",
      "0.944093701871--0.930731727523\n",
      "0.944122792159--0.930784388643\n",
      "0.944147831082--0.930804726942\n",
      "0.944165608939--0.930811297393\n",
      "0.944182580541--0.930816821233\n",
      "0.94419605013--0.930856913078\n",
      "0.944207060525--0.931546872372\n",
      "0.944261567644--0.931750550578\n",
      "0.94428185913--0.931754378096\n",
      "0.944301785147--0.931758401807\n",
      "0.944319602724--0.931863616402\n",
      "0.944337906345--0.931966279163\n",
      "0.944350796479--0.931995139426\n",
      "0.944362936264--0.931996273817\n",
      "0.944373807875--0.932006642318\n",
      "0.944382692143--0.932016526254\n",
      "0.944390421398--0.9320261217\n",
      "0.944398323381--0.932165901995\n",
      "0.944406653572--0.932166504633\n",
      "0.944412567127--0.932177905641\n",
      "0.944416176211--0.932179816545\n",
      "0.944421078929--0.932179951342\n",
      "0.94442310195--0.932180858073\n",
      "0.944425059905--0.932182307327\n",
      "0.94446956391--0.932213986079\n",
      "0.944472664874--0.932213991293\n",
      "0.944478007416--0.932228845107\n",
      "0.944482542629--0.932235707143\n",
      "0.944484459148--0.93223933264\n",
      "0.944484962475--0.932239357164\n",
      "0.944490673584--0.932239250307\n",
      "0.944489123741--0.932253781681\n",
      "0.944491524726--0.932253663853\n",
      "0.944492142692--0.932253565257\n",
      "0.944489078489--0.932253559312\n",
      "0.944484957156--0.932253572085\n",
      "0.944486371181--0.932253674776\n",
      "0.944490794326--0.93225352518\n",
      "0.944490545276--0.932253592807\n",
      "0.944483544047--0.932254017639\n",
      "0.944496598435--0.932254366097\n",
      "0.944486160377--0.932254343236\n",
      "0.944480289612--0.932254690331\n",
      "0.944481119909--0.932256989392\n",
      "0.944478805496--0.932256192435\n",
      "0.944472802262--0.932255728461\n",
      "0.9444712644--0.932256407118\n",
      "0.944470723816--0.932256412862\n",
      "0.944478163143--0.932256480263\n",
      "0.944463848372--0.932255871211\n",
      "0.944458892133--0.932257418079\n",
      "0.944456713573--0.932257450045\n",
      "0.944455514172--0.932269631656\n",
      "0.944445847451--0.932270485656\n",
      "0.944434657373--0.932271299533\n",
      "0.944420937379--0.932291012985\n",
      "0.944404102385--0.932301561387\n",
      "0.944384106926--0.932302401411\n",
      "0.944362152879--0.933459419283\n",
      "0.944339309791--0.933467029404\n",
      "0.944297515358--0.933468130404\n",
      "0.943658937508--0.933523496331\n",
      "0.944152979121--0.933550029966\n",
      "0.944716427751--0.933667186295\n",
      "0.943980661382--0.933670603447\n",
      "0.942875204647--0.933734550816\n",
      "0.947073164702--0.933884121642\n",
      "0.946193757822--0.933924343151\n",
      "0.942099807896--0.933924618822\n",
      "0.938742345382--0.934025270994\n",
      "0.93759743639--0.934197891941\n",
      "0.920144680459--0.934503920268\n",
      "0.944204119625--0.934538857678\n",
      "0.942757669309--0.934551932792\n",
      "0.946220653019--0.934602480698\n",
      "0.943821133082--0.934719734509\n",
      "0.945672839288--0.93475041417\n",
      "0.941785529042--0.934762769066\n",
      "0.942685190672--0.93476511143\n",
      "0.936636544079--0.934765420481\n",
      "0.939864330261--0.934765139245\n",
      "0.898210346013--0.934876181409\n",
      "0.919246458676--0.934935148533\n",
      "0.943375796762--0.934948769654\n",
      "0.944988611832--0.934994884326\n",
      "0.944724676715--0.935574613265\n",
      "0.927417992818--0.935635679752\n",
      "0.943803976687--0.936341992769\n",
      "0.943738684673--0.936345639457\n",
      "0.939604244085--0.936722353879\n",
      "0.93959581466--0.936766727212\n",
      "0.928878866371--0.937040324373\n",
      "0.943098197398--0.937062265077\n",
      "0.942808235325--0.937216177083\n",
      "0.942619055627--0.937222886286\n",
      "0.932164772205--0.937230189984\n",
      "0.938494262831--0.938141174092\n",
      "0.908659633076--0.938159140712\n",
      "0.942454125867--0.938263742332\n",
      "0.0796576981711--0.93827136652\n",
      "0.886626968254--0.938298037421\n",
      "0.939040785225--0.938324927266\n",
      "0.942280949108--0.938383509827\n",
      "0.938667051596--0.938387846298\n",
      "0.938697134062--0.938491769961\n",
      "0.938920464401--0.938647000373\n",
      "0.938940558831--0.938691444886\n",
      "-1.39879182333--0.938921744295\n",
      "0.938971509488--0.938921832193\n",
      "0.938989210832--0.939021354541\n",
      "0.938989210832--0.939021354541\n",
      "0.938989210832--0.939021354541\n",
      "0.938989210832--0.939021354541\n",
      "0.938962170275--0.939031970933\n",
      "0.938962170275--0.939031970933\n",
      "-2.23235524124--0.939031887038\n",
      "0.0909896348361--0.939031644908\n",
      "0.938950999215--0.939032201432\n",
      "0.938950999215--0.939032201432\n",
      "-8.10615674788--0.939194428937\n",
      "0.938889487251--0.93924940263\n",
      "-61.0531230716--0.939252094258\n",
      "0.938845123898--0.939354911353\n",
      "0.938762763305--0.939400385066\n",
      "-430.032946062--0.939403919374\n",
      "0.938615818608--0.939404094371\n",
      "-11.6818146857--0.93946294392\n",
      "0.938550691472--0.939462990138\n",
      "-14.3319389204--0.939463119054\n",
      "0.93840932936--0.939488398897\n",
      "0.938333118736--0.939514271391\n",
      "-11.0511815438--0.939520641735\n",
      "0.938254384506--0.939522593469\n",
      "-0.768750803739--0.939721200842\n",
      "0.938160643649--0.939751341994\n",
      "0.938160643649--0.939751341994\n",
      "-207.76244155--0.939770480389\n",
      "-14.5086060708--0.93977041545\n",
      "-33.1400204001--0.93977959726\n",
      "0.938053530066--0.939836090801\n",
      "-60.3272129097--0.939939801577\n",
      "0.937780489563--0.939990881862\n",
      "-30.6825317573--0.939994830868\n",
      "-108.495593203--0.940598672139\n",
      "-4.90569223051--0.940979093096\n",
      "0.937660410455--0.940983574847\n",
      "-96.6600421142--0.941310580019\n",
      "0.937546069025--0.941310704158\n",
      "0.937202106067--0.941346737561\n",
      "0.937133625625--0.941359225407\n",
      "-36.1364233764--0.941671053675\n",
      "0.936710230065--0.941862754668\n",
      "0.936472423759--0.941875989648\n",
      "0.936472423758--0.941875989648\n",
      "-324.431094594--0.941892989986\n",
      "-0.253736977546--0.942031984142\n",
      "-153.60033946--0.942115223234\n",
      "0.93573670731--0.942184019091\n",
      "0.935379100964--0.942272356019\n",
      "-22.3185158457--0.942441060757\n",
      "-128.874628789--0.94264134059\n",
      "-9.1384045177--0.942641129692\n",
      "0.934117576059--0.942663920329\n",
      "-5.49454076374--0.942874394456\n",
      "0.933642021938--0.94288675153\n",
      "-14.3982126106--0.942887691575\n",
      "-29.6736229434--0.942975505736\n",
      "0.911389222241--0.943075679962\n",
      "0.909350246406--0.943488813373\n",
      "0.916650582592--0.944043956158\n",
      "0.929874917054--0.944103921973\n",
      "0.921451604746--0.944107768339\n",
      "0.928181977495--0.944472469915\n",
      "0.930489745119--0.944472468972\n",
      "0.930145535769--0.944697896329\n",
      "-2.09884521064--0.945302012042\n",
      "0.929794465189--0.945455569557\n",
      "0.685871487418--0.945491021763\n",
      "0.0790873874633--0.94549360749\n",
      "0.928439580396--0.945703150992\n",
      "0.0721929493901--0.945703721679\n",
      "0.693698069159--0.94570375114\n"
     ]
    },
    {
     "name": "stdout",
     "output_type": "stream",
     "text": [
      "0.928439086346--0.94570371654\n",
      "-455009798.288--0.945703745386\n",
      "-1707606.45156--0.945968420327\n",
      "-80601306.3348--0.945968322382\n",
      "-2926159317.06--0.946178821948\n",
      "-21790410.3823--0.946456567629\n",
      "-719121496.793--0.946579557911\n"
     ]
    }
   ],
   "source": [
    "unselected_features = list(X_train)\n",
    "selected_features = []\n",
    "accuracy = 0\n",
    "\n",
    "train_accuracy = []\n",
    "val_accuracy = []\n",
    "\n",
    "learner = linear_model.LinearRegression()\n",
    "\n",
    "while(True):\n",
    "    max_model_accuracy = 0\n",
    "    best_feature = None\n",
    "    for col in unselected_features:\n",
    "        learner.fit(X_train[selected_features + [col]], y_train)\n",
    "        y_pred = learner.predict(X_val[selected_features + [col]])\n",
    "        model_accuracy = r2_score(y_val, y_pred)\n",
    "\n",
    "        if(model_accuracy > max_model_accuracy):\n",
    "            best_feature = col\n",
    "            max_model_accuracy = model_accuracy\n",
    "    if(unselected_features == [] or best_feature == None):\n",
    "        break\n",
    "    else:\n",
    "        accuracy = model_accuracy\n",
    "\n",
    "    selected_features.append(best_feature)\n",
    "    unselected_features.remove(best_feature)\n",
    "    \n",
    "    learner.fit(X_train[selected_features], y_train)\n",
    "    y_pred_test = learner.predict(X_val[selected_features])\n",
    "    val_r2 = r2_score(y_val, y_pred_test)\n",
    "    val_accuracy.append(val_r2)\n",
    "    print(val_r2, end = '--')\n",
    "    \n",
    "    y_pred_train = learner.predict(X_train[selected_features])\n",
    "    train_r2 = r2_score(y_train, y_pred_train)\n",
    "    train_accuracy.append(train_r2)\n",
    "    print(train_r2)\n",
    "    \n",
    "    \n",
    "\n",
    "\n"
   ]
  },
  {
   "cell_type": "code",
   "execution_count": 26,
   "metadata": {},
   "outputs": [
    {
     "data": {
      "image/png": "[encoded data removed]",
      "text/plain": [
       "<matplotlib.figure.Figure at 0x276923962e8>"
      ]
     },
     "metadata": {},
     "output_type": "display_data"
    }
   ],
   "source": [
    "#print(selected_features)\n",
    "#print(train_accuracy)\n",
    "#print(test_accuracy)\n",
    "plt.plot(train_accuracy, label = 'Training R2')\n",
    "plt.plot(val_accuracy, label = 'Test R2')\n",
    "plt.legend()\n",
    "plt.show()"
   ]
  },
  {
   "cell_type": "code",
   "execution_count": 51,
   "metadata": {},
   "outputs": [
    {
     "name": "stdout",
     "output_type": "stream",
     "text": [
      "-199199.8\n"
     ]
    }
   ],
   "source": [
    "print(r2_score([4, 3, 2, 1], [4, 3, 2, 999]))"
   ]
  },
  {
   "cell_type": "code",
   "execution_count": 53,
   "metadata": {
    "scrolled": true
   },
   "outputs": [
    {
     "data": {
      "text/plain": [
       "-441675916.37317991"
      ]
     },
     "execution_count": 53,
     "metadata": {},
     "output_type": "execute_result"
    }
   ],
   "source": [
    "bad_features = ['OverallQual', 'log_GrLivArea', 'BsmtFinSF1', 'YearBuilt', 'LotArea', 'OverallCond', 'SaleCondition_Abnorml', 'TotalBsmtSF', 'Neighborhood_Crawfor', 'GarageArea', 'HeatingQC_Ex', 'KitchenAbvGr', 'KitchenQual_Ex', 'Neighborhood_BrDale', 'Functional_Maj2', 'Condition1_Norm', 'BsmtExposure_Gd', 'Street_Grvl', 'MSZoning_FV', 'Neighborhood_StoneBr', 'Neighborhood_NoRidge', 'LotConfig_FR2', 'BsmtFinSF2', '2ndFlrSF', 'log_1stFlrSF', 'BedroomAbvGr', 'Exterior1st_BrkFace', 'Neighborhood_MeadowV', 'Functional_Mod', 'FullBath', 'Functional_Maj1', 'GarageCond_Fa', 'WoodDeckSF', 'Fireplaces', 'HeatingQC_Gd', 'BsmtFinType1_GLQ', 'MasVnrType_BrkFace', 'MSZoning_RL', 'ExterQual_Fa', 'BsmtQual_Gd', 'KitchenQual_Gd', 'EnclosedPorch', 'BsmtCond_Gd', 'ScreenPorch', 'Neighborhood_Edwards', 'BsmtFinType2_GLQ', 'Exterior2nd_BrkFace', 'BsmtFinType1_Rec', 'Functional_Min1', 'ExterCond_TA', 'BsmtFinType2_Rec', 'Heating_Grav', 'BsmtFinType1_LwQ', 'Neighborhood_OldTown', 'MSZoning_RM', 'SaleType_ConLI', 'OpenPorchSF', 'LowQualFinSF', 'Condition2_Feedr', 'Neighborhood_Gilbert', 'MasVnrArea', 'Condition1_PosN', 'LandSlope_Mod', 'Exterior2nd_Wd Sdng', 'Fence_MnPrv', 'RoofStyle_Mansard', 'Heating_GasW', 'BsmtExposure_Mn', 'KitchenQual_Fa', 'Fence_GdWo', 'ExterCond_Gd', 'GarageQual_Gd', 'BsmtFinType2_LwQ', 'GarageType_Attchd', 'GarageType_CarPort', 'KitchenQual_TA', 'GarageType_Basment', 'BsmtCond_NotApplicable', 'Condition1_RRAe', 'Neighborhood_Sawyer', 'Condition2_PosA', 'BsmtFinType2_BLQ', 'FireplaceQu_Po', 'PoolQC_Fa', 'LotShape_IR3', 'HouseStyle_2Story', 'Condition2_Norm', 'GarageQual_Fa', 'LotConfig_FR3', 'Exterior2nd_Stone', 'Neighborhood_NridgHt', 'ExterQual_Ex', 'PavedDrive_N', 'LotShape_Reg', 'GarageFinish_Fin', 'MasVnrType_BrkCmn', 'GarageCond_Ex', 'SaleType_CWD', 'Condition2_PosN', 'Heating_Wall', 'HeatingQC_Po', 'MasVnrType_Stone', 'Fence_GdPrv', 'RoofMatl_WdShake', 'Utilities_AllPub', 'HouseStyle_SLvl', 'BsmtCond_Ex', 'HasGarage', 'GarageQual_TA', 'HalfBath', 'GarageCond_Gd', 'GarageFinish_RFn', 'Exterior1st_Stone', 'BsmtUnfSF', 'BsmtFinType2_NotApplicable', 'GarageCond_NotApplicable', 'PoolQC_TA', 'Neighborhood_GrnHill', 'GarageFinish_NotApplicable', 'Street_Pave', 'BsmtFinType1_NotApplicable', 'GarageFinish_Unf', 'GarageQual_NotApplicable', 'GarageType_Detchd', 'HasBsmt', 'SaleCondition_Alloca', 'RoofStyle_Flat', 'RoofStyle_Gambrel', 'RoofMatl_Tar&Grv', 'BsmtQual_NotApplicable', 'ExterCond_Fa', 'SaleType_ConLw', 'HouseStyle_1Story', 'MasVnrType_None', 'Foundation_Slab', 'Neighborhood_NAmes', 'Exterior2nd_MetalSd', 'BsmtQual_Fa', '3SsnPorch', 'BsmtExposure_NotApplicable', 'FireplaceQu_Fa', 'Foundation_BrkTil', 'MasVnrType_NotApplicable', 'GarageType_NotApplicable', 'Exterior1st_WdShing', 'Heating_GasA', 'Neighborhood_NPkVill', 'HasPool', 'PoolArea', 'BldgType_2fmCon', 'HouseStyle_1.5Fin', 'Neighborhood_Greens', 'Fence_NotApplicable', 'Neighborhood_Blmngtn', 'GarageQual_Ex', 'LandSlope_Sev', 'LandContour_Lvl', 'Exterior1st_AsbShng', 'HouseStyle_SFoyer', 'BldgType_Duplex', 'BsmtCond_TA', 'LandContour_Bnk', 'Neighborhood_ClearCr', 'Heating_OthW', 'Fence_MnWw', 'BldgType_TwnhsE', 'Exterior1st_Stucco', 'FireplaceQu_Ex', 'HouseStyle_2.5Unf', 'MSZoning_C (all)', 'BsmtFinType1_ALQ', 'SaleType_WD ', 'RoofStyle_Hip', 'BsmtExposure_No', 'FireplaceQu_NotApplicable', 'Functional_Typ', 'GarageType_2Types', 'Exterior1st_BrkComm', 'ExterCond_Po', 'SaleType_ConLD', 'YearRemodAdd', 'SaleCondition_AdjLand', 'Foundation_Stone', 'LotConfig_Inside', 'HouseStyle_1.5Unf', 'Neighborhood_SWISU', 'Exterior2nd_Stucco', 'MSZoning_RH', 'LotFrontage', 'HasLotFrontage', 'Exterior1st_MetalSd', 'BsmtQual_Ex', 'Electrical_FuseA', 'LandContour_Low', 'LandContour_HLS', 'Functional_Min2', 'LandSlope_Gtl', 'Electrical_FuseP', 'GarageQual_Po', 'GarageType_BuiltIn', 'BsmtExposure_Av', 'Alley_Grvl', 'PoolQC_NotApplicable', 'Neighborhood_Mitchel', 'BsmtHalfBath', 'LotConfig_CulDSac', 'Exterior1st_Plywood', 'BsmtCond_Fa', 'BsmtFinType2_Unf', 'Exterior2nd_AsbShng', 'Electrical_SBrkr', 'LotConfig_Corner', 'BsmtFinType2_ALQ', 'Exterior2nd_Brk Cmn', 'LotShape_IR2', 'SaleType_Oth', 'Condition1_RRNe', 'Neighborhood_SawyerW', 'Electrical_FuseF', 'LotShape_IR1', 'HeatingQC_Fa', 'HeatingQC_TA', 'Neighborhood_CollgCr', 'Neighborhood_IDOTRR', 'GarageYrBlt', 'RoofMatl_CompShg', 'Neighborhood_Timber', 'Neighborhood_NWAmes', 'Neighborhood_Veenker', 'Condition1_RRAn', 'Foundation_CBlock', 'Neighborhood_BrkSide', 'MoSold', 'ExterQual_TA', 'SaleCondition_Family', 'Exterior2nd_Plywood', 'BsmtQual_TA', 'ExterQual_Gd', 'RoofStyle_Gable', 'Exterior2nd_CmentBd', 'Exterior2nd_ImStucc', 'Exterior1st_Wd Sdng', 'TotRmsAbvGrd', 'Condition1_Feedr', 'Alley_Pave', 'Alley_NotApplicable', 'Exterior2nd_AsphShn', 'Exterior2nd_HdBoard', 'Exterior1st_VinylSd', 'Exterior1st_CemntBd', 'Exterior1st_HdBoard', 'Exterior2nd_VinylSd', 'Condition1_PosA', 'SaleCondition_Normal', 'Condition1_Artery', 'Exterior2nd_Wd Shng', 'GarageCars', 'SaleCondition_Partial', 'SaleType_COD', 'BldgType_1Fam', 'YrSold', 'Neighborhood_Somerst', 'SaleType_New', 'FireplaceQu_TA', 'MSSubClass']\n",
    "lr = linear_model.LinearRegression()\n",
    "lr.fit(X_train[really_bad_feature_set], y_train)\n",
    "\n",
    "y_pred = lr.predict(X_test[really_bad_feature_set])\n",
    "r2_score(y_test, y_pred)"
   ]
  },
  {
   "cell_type": "code",
   "execution_count": 60,
   "metadata": {},
   "outputs": [
    {
     "data": {
      "text/plain": [
       "0.93410599927345506"
      ]
     },
     "execution_count": 60,
     "metadata": {},
     "output_type": "execute_result"
    }
   ],
   "source": [
    "better_feature_set = ['OverallQual', 'log_GrLivArea', 'BsmtFinSF1', 'YearBuilt', 'LotArea', 'OverallCond', 'SaleCondition_Abnorml', 'TotalBsmtSF', 'Neighborhood_Crawfor', 'GarageArea', 'HeatingQC_Ex', 'KitchenAbvGr', 'KitchenQual_Ex', 'Neighborhood_BrDale', 'Functional_Maj2', 'Condition1_Norm', 'BsmtExposure_Gd', 'Street_Grvl', 'MSZoning_FV', 'Neighborhood_StoneBr', 'Neighborhood_NoRidge', 'LotConfig_FR2', 'BsmtFinSF2', '2ndFlrSF', 'log_1stFlrSF', 'BedroomAbvGr', 'Exterior1st_BrkFace', 'Neighborhood_MeadowV', 'Functional_Mod', 'FullBath', 'Functional_Maj1', 'GarageCond_Fa', 'WoodDeckSF', 'Fireplaces', 'HeatingQC_Gd', 'BsmtFinType1_GLQ', 'MasVnrType_BrkFace', 'MSZoning_RL', 'ExterQual_Fa', 'BsmtQual_Gd', 'KitchenQual_Gd', 'EnclosedPorch', 'BsmtCond_Gd', 'ScreenPorch', 'Neighborhood_Edwards', 'BsmtFinType2_GLQ', 'Exterior2nd_BrkFace', 'BsmtFinType1_Rec', 'Functional_Min1', 'ExterCond_TA', 'BsmtFinType2_Rec', 'Heating_Grav', 'BsmtFinType1_LwQ', 'Neighborhood_OldTown', 'MSZoning_RM', 'SaleType_ConLI', 'OpenPorchSF', 'LowQualFinSF', 'Condition2_Feedr', 'Neighborhood_Gilbert', 'MasVnrArea', 'Condition1_PosN', 'LandSlope_Mod', 'Exterior2nd_Wd Sdng', 'Fence_MnPrv', 'RoofStyle_Mansard', 'Heating_GasW', 'BsmtExposure_Mn', 'KitchenQual_Fa', 'Fence_GdWo', 'ExterCond_Gd', 'GarageQual_Gd', 'BsmtFinType2_LwQ', 'GarageType_Attchd', 'GarageType_CarPort', 'KitchenQual_TA', 'GarageType_Basment', 'BsmtCond_NotApplicable', 'Condition1_RRAe', 'Neighborhood_Sawyer', 'Condition2_PosA', 'BsmtFinType2_BLQ', 'FireplaceQu_Po', 'PoolQC_Fa', 'LotShape_IR3', 'HouseStyle_2Story', 'Condition2_Norm', 'GarageQual_Fa', 'LotConfig_FR3', 'Exterior2nd_Stone', 'Neighborhood_NridgHt', 'ExterQual_Ex', 'PavedDrive_N', 'LotShape_Reg']\n",
    "lr = linear_model.LinearRegression()\n",
    "lr.fit(X_train[better_feature_set], y_train)\n",
    "\n",
    "y_pred = lr.predict(X_test[better_feature_set])\n",
    "r2_score(y_test, y_pred)"
   ]
  },
  {
   "cell_type": "markdown",
   "metadata": {},
   "source": [
    "## Try again with ALL features"
   ]
  },
  {
   "cell_type": "code",
   "execution_count": 123,
   "metadata": {},
   "outputs": [
    {
     "name": "stdout",
     "output_type": "stream",
     "text": [
      "On train: 0.9474044833165055:\n",
      "On test: 0.93825121660914:\n"
     ]
    }
   ],
   "source": [
    "lr = linear_model.LinearRegression()\n",
    "lr.fit(X_train, y_train)\n",
    "\n",
    "y_pred = lr.predict(X_train)\n",
    "print('On train: {0}:'.format(r2_score(y_train, y_pred)))\n",
    "\n",
    "y_pred = lr.predict(X_test)\n",
    "print('On test: {0}:'.format(r2_score(y_test, y_pred)))\n",
    "\n",
    "write_to_csv(np.exp(y_test), np.exp(y_pred), 'Linear.csv')"
   ]
  },
  {
   "cell_type": "code",
   "execution_count": 124,
   "metadata": {
    "scrolled": true
   },
   "outputs": [
    {
     "name": "stdout",
     "output_type": "stream",
     "text": [
      "On train: 0.950753581393851\n",
      "On test: 0.927283123070852\n"
     ]
    }
   ],
   "source": [
    "lr_geo = linear_model.LinearRegression()\n",
    "lr_geo.fit(X_geo_train, y_geo_train)\n",
    "\n",
    "y_pred_train = lr_geo.predict(X_geo_train)\n",
    "print('On train: {0}'.format(r2_score(y_geo_train, y_pred_train)))\n",
    "\n",
    "y_pred = lr_geo.predict(X_geo_test)\n",
    "print('On test: {0}'.format(r2_score(y_geo_test, y_pred)))\n",
    "\n",
    "write_to_csv(np.exp(y_geo_test), np.exp(y_pred), 'Linear_with_geo.csv')"
   ]
  },
  {
   "cell_type": "code",
   "execution_count": 125,
   "metadata": {},
   "outputs": [
    {
     "name": "stdout",
     "output_type": "stream",
     "text": [
      "On train: 0.9461437277873921:\n",
      "On test: 0.9384955982344393:\n"
     ]
    },
    {
     "data": {
      "image/png": "[encoded data removed]",
      "text/plain": [
       "<matplotlib.figure.Figure at 0x2769602e860>"
      ]
     },
     "metadata": {},
     "output_type": "display_data"
    },
    {
     "name": "stdout",
     "output_type": "stream",
     "text": [
      "Final r2 score: 0.9495966899007803\n",
      "Median margin of error: 0.04760241389851841\n",
      "RMSE is: 17177.317510022633\n"
     ]
    }
   ],
   "source": [
    "rid = linear_model.Ridge()\n",
    "rid.fit(X_train, y_train)\n",
    "\n",
    "y_pred = rid.predict(X_train)\n",
    "print('On train: {0}:'.format(r2_score(y_train, y_pred)))\n",
    "\n",
    "y_pred = rid.predict(X_test)\n",
    "print('On test: {0}:'.format(r2_score(y_test, y_pred)))\n",
    "\n",
    "y_test_norm = np.exp(y_test)\n",
    "y_pred_norm = np.exp(y_pred)\n",
    "summary.pred_vs_actual_plot(y_pred_norm, y_test_norm)\n",
    "print('Final r2 score: {0}'.format(r2_score(y_test_norm, y_pred_norm)))\n",
    "median_margin_of_error = np.median(np.abs((y_pred_norm - y_test_norm) / y_test_norm))\n",
    "print('Median margin of error: {0}'.format(median_margin_of_error))\n",
    "rmse = sqrt(mean_squared_error(y_test_norm, y_pred_norm))\n",
    "print('RMSE is: {0}'.format(rmse))\n",
    "\n",
    "write_to_csv(np.exp(y_test), np.exp(y_pred), 'Ridge.csv')"
   ]
  },
  {
   "cell_type": "code",
   "execution_count": 126,
   "metadata": {},
   "outputs": [
    {
     "name": "stdout",
     "output_type": "stream",
     "text": [
      "On train: 0.9475598593010872\n",
      "On test: 0.9397249388837053\n"
     ]
    },
    {
     "data": {
      "image/png": "[encoded data removed]",
      "text/plain": [
       "<matplotlib.figure.Figure at 0x2769605c780>"
      ]
     },
     "metadata": {},
     "output_type": "display_data"
    },
    {
     "name": "stdout",
     "output_type": "stream",
     "text": [
      "Final r2 score: 0.9497041969684099\n",
      "Median margin of error: 0.04558322777476602\n",
      "RMSE is: 17158.988666166337\n"
     ]
    }
   ],
   "source": [
    "rid_geo = linear_model.Ridge()\n",
    "rid_geo.fit(X_geo_train, y_geo_train)\n",
    "\n",
    "y_geo_pred_train = rid_geo.predict(X_geo_train)\n",
    "print('On train: {0}'.format(r2_score(y_geo_train, y_geo_pred_train)))\n",
    "\n",
    "y_geo_pred_test = rid_geo.predict(X_geo_test)\n",
    "print('On test: {0}'.format(r2_score(y_geo_test, y_geo_pred_test)))\n",
    "\n",
    "y_geo_test_norm = np.exp(y_geo_test)\n",
    "y_geo_pred_norm = np.exp(y_geo_pred)\n",
    "summary.pred_vs_actual_plot(y_geo_pred_norm, y_geo_test_norm)\n",
    "print('Final r2 score: {0}'.format(r2_score(y_geo_test_norm, y_geo_pred_norm)))\n",
    "median_margin_of_error = np.median(np.abs((y_geo_pred_norm - y_geo_test_norm) / y_geo_test_norm))\n",
    "print('Median margin of error: {0}'.format(median_margin_of_error))\n",
    "rmse = sqrt(mean_squared_error(y_geo_test_norm, y_geo_pred_norm))\n",
    "print('RMSE is: {0}'.format(rmse))\n",
    "\n",
    "write_to_csv(np.exp(y_geo_test), np.exp(y_geo_pred_test), 'Ridge_with_geo.csv')"
   ]
  },
  {
   "cell_type": "code",
   "execution_count": 122,
   "metadata": {},
   "outputs": [
    {
     "name": "stdout",
     "output_type": "stream",
     "text": [
      "On train: 0.9381698055770009\n",
      "On test: 0.9481048674701982\n"
     ]
    }
   ],
   "source": [
    "lasso = linear_model.LassoCV(alphas = [1, 0.1, 0.001, 0.0005],max_iter=100000)\n",
    "lasso.fit(X_train, y_train)\n",
    "y_pred_train = lasso.predict(X_train)\n",
    "print('On train: {0}'.format(r2_score(y_train, y_pred_train)))\n",
    "      \n",
    "y_pred_test = lasso.predict(X_test)\n",
    "print('On test: {0}'.format(r2_score(np.exp(y_test), np.exp(y_pred_test)))) \n",
    "\n",
    "write_to_csv(np.exp(y_test), np.exp(y_pred_test), 'Lasso.csv')"
   ]
  },
  {
   "cell_type": "code",
   "execution_count": 120,
   "metadata": {},
   "outputs": [
    {
     "name": "stdout",
     "output_type": "stream",
     "text": [
      "On train: 0.9387880578605082\n",
      "On test: 0.9488570378358722\n",
      "saving as ../data/output/Lasso_with_geo.csv\n"
     ]
    }
   ],
   "source": [
    "lasso = linear_model.LassoCV(alphas = [1, 0.1, 0.001, 0.0005],max_iter=100000)\n",
    "lasso.fit(X_geo_train, y_geo_train)\n",
    "y_pred_train = lasso.predict(X_geo_train)\n",
    "print('On train: {0}'.format(r2_score(y_geo_train, y_pred_train)))\n",
    "      \n",
    "y_pred_test = lasso.predict(X_geo_test)\n",
    "print('On test: {0}'.format(r2_score(np.exp(y_geo_test), np.exp(y_pred_test)))) \n",
    "\n",
    "write_to_csv(np.exp(y_geo_test), np.exp(y_pred_test), 'Lasso_with_geo.csv')"
   ]
  },
  {
   "cell_type": "code",
   "execution_count": 121,
   "metadata": {
    "scrolled": false
   },
   "outputs": [],
   "source": [
    "def write_to_csv(actual, prediction, name):\n",
    "    with open('../data/output/'+name, 'w', newline='') as csvfile:\n",
    "        writer = csv.writer(csvfile, delimiter=' ',\n",
    "                                quotechar='\"', quoting=csv.QUOTE_MINIMAL)\n",
    "        writer.writerow(['actual,prediction'])\n",
    "        for act, pred in zip(actual, prediction):\n",
    "            writer.writerow([act] + [','] + [pred])"
   ]
  },
  {
   "cell_type": "code",
   "execution_count": null,
   "metadata": {
    "collapsed": true
   },
   "outputs": [],
   "source": []
  }
 ],
 "metadata": {
  "kernelspec": {
   "display_name": "Python 3",
   "language": "python",
   "name": "python3"
  },
  "language_info": {
   "codemirror_mode": {
    "name": "ipython",
    "version": 3
   },
   "file_extension": ".py",
   "mimetype": "text/x-python",
   "name": "python",
   "nbconvert_exporter": "python",
   "pygments_lexer": "ipython3",
   "version": "3.6.3"
  }
 },
 "nbformat": 4,
 "nbformat_minor": 2
}
